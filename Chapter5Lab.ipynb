{
 "cells": [
  {
   "cell_type": "code",
   "id": "72784d4c-07b8-4d75-afab-97bb5222776f",
   "metadata": {
    "ExecuteTime": {
     "end_time": "2025-05-01T22:11:25.722291Z",
     "start_time": "2025-05-01T22:11:25.716073Z"
    }
   },
   "source": [
    "import numpy as np\n",
    "import pandas as pd\n",
    "import statsmodels.api as sm\n",
    "from ISLP import load_data\n",
    "from ISLP.models import (ModelSpec as MS,\n",
    "                        summarize,\n",
    "                        poly)\n",
    "from sklearn.preprocessing import PolynomialFeatures"
   ],
   "outputs": [],
   "execution_count": 2
  },
  {
   "cell_type": "code",
   "id": "6bdd95c9-8d8b-4bc3-8f2e-a70a1603fddb",
   "metadata": {
    "ExecuteTime": {
     "end_time": "2025-05-01T22:11:25.766299Z",
     "start_time": "2025-05-01T22:11:25.761119Z"
    }
   },
   "source": [
    "from sklearn.model_selection import train_test_split\n",
    "from sklearn.model_selection import \\\n",
    "    (cross_validate,\n",
    "    KFold)\n",
    "from ISLP.models import sklearn_sm"
   ],
   "outputs": [],
   "execution_count": 3
  },
  {
   "cell_type": "code",
   "id": "8fdcffd4-949f-42d0-a9cc-c47fe16b010b",
   "metadata": {
    "ExecuteTime": {
     "end_time": "2025-05-01T22:11:25.836213Z",
     "start_time": "2025-05-01T22:11:25.804359Z"
    }
   },
   "source": [
    "Auto = load_data('Auto')\n",
    "Auto_train, Auto_test = train_test_split(Auto,\n",
    "                                        test_size = 196,\n",
    "                                        random_state = 0)"
   ],
   "outputs": [],
   "execution_count": 4
  },
  {
   "cell_type": "code",
   "id": "e32c0219-b15d-42e2-aac2-c89689a5abca",
   "metadata": {
    "ExecuteTime": {
     "end_time": "2025-05-01T22:11:25.867205Z",
     "start_time": "2025-05-01T22:11:25.848151Z"
    }
   },
   "source": [
    "design = MS(['horsepower'])\n",
    "X_train = design.fit_transform(Auto_train)\n",
    "y_train = Auto_train['mpg']\n",
    "model = sm.OLS(y_train, X_train)\n",
    "results = model.fit()"
   ],
   "outputs": [],
   "execution_count": 5
  },
  {
   "cell_type": "code",
   "id": "d31a5f6e-e814-4c4f-b389-08b7fdde2575",
   "metadata": {
    "ExecuteTime": {
     "end_time": "2025-05-01T22:11:25.945109Z",
     "start_time": "2025-05-01T22:11:25.919075Z"
    }
   },
   "source": [
    "X_test = design.fit_transform(Auto_test)\n",
    "y_test = Auto_test['mpg']\n",
    "test_pred = results.predict(X_test)\n",
    "SqErrs = (y_test - test_pred)**2\n",
    "np.mean(SqErrs)"
   ],
   "outputs": [
    {
     "data": {
      "text/plain": [
       "np.float64(23.61661706966988)"
      ]
     },
     "execution_count": 6,
     "metadata": {},
     "output_type": "execute_result"
    }
   ],
   "execution_count": 6
  },
  {
   "cell_type": "code",
   "id": "ed2b89d7-fe91-466e-86ee-86c4ed335e0f",
   "metadata": {
    "ExecuteTime": {
     "end_time": "2025-05-01T22:11:26.015832Z",
     "start_time": "2025-05-01T22:11:26.010605Z"
    }
   },
   "source": [
    "def evalMSE(terms,\n",
    "           response,\n",
    "           train,\n",
    "           test):\n",
    "\n",
    "    mm = MS(terms)\n",
    "    X_train = mm.fit_transform(train)\n",
    "    y_train = train[response]\n",
    "\n",
    "    X_test = mm.transform(test)\n",
    "    y_test = test[response]\n",
    "\n",
    "    results = sm.OLS(y_train, X_train).fit()\n",
    "    test_pred = results.predict(X_test)\n",
    "\n",
    "    return np.mean((y_test - test_pred)**2)"
   ],
   "outputs": [],
   "execution_count": 7
  },
  {
   "cell_type": "code",
   "id": "06e8b5cf-181d-4ac1-b8fa-02acca8d526e",
   "metadata": {
    "ExecuteTime": {
     "end_time": "2025-05-01T22:11:26.059450Z",
     "start_time": "2025-05-01T22:11:26.042112Z"
    }
   },
   "source": [
    "Auto_train, Auto_test = train_test_split(Auto,\n",
    "                                        test_size = 196,\n",
    "                                        random_state = 111)\n",
    "\n",
    "test_MSE = evalMSE(['horsepower'],\n",
    "                  'mpg',\n",
    "                  Auto_train,\n",
    "                  Auto_test)\n",
    "\n",
    "test_MSE"
   ],
   "outputs": [
    {
     "data": {
      "text/plain": [
       "np.float64(22.72698370242511)"
      ]
     },
     "execution_count": 8,
     "metadata": {},
     "output_type": "execute_result"
    }
   ],
   "execution_count": 8
  },
  {
   "cell_type": "code",
   "id": "7296ebeb-f3ca-48ff-9473-ef8f856914dc",
   "metadata": {
    "ExecuteTime": {
     "end_time": "2025-05-01T22:11:27.027090Z",
     "start_time": "2025-05-01T22:11:26.096407Z"
    }
   },
   "source": [
    "# Drop rows with missing values\n",
    "Auto_train = Auto_train.dropna(subset=['horsepower'])\n",
    "Auto = Auto.dropna(subset=['mpg'])\n",
    "\n",
    "# Ensure indices are aligned\n",
    "Auto_train = Auto_train.reset_index(drop=True)\n",
    "Auto = Auto.reset_index(drop=True)\n",
    "\n",
    "# Transforming the data again\n",
    "X_train = design.fit_transform(Auto_train[['horsepower']])\n",
    "y_train = Auto['mpg']\n",
    "\n",
    "print(f\"X_train shape: {X_train.shape}\")\n",
    "print(f\"y_train shape: {y_train.shape}\")\n",
    "\n",
    "model = sm.OLS(y_train, X_train)\n",
    "results = model.fit()\n",
    "print(results.summary())\n",
    "\n",
    "X_train = X_train.reindex(y_train.index)\n",
    "y_train = y_"
   ],
   "outputs": [
    {
     "name": "stdout",
     "output_type": "stream",
     "text": [
      "X_train shape: (196, 2)\n",
      "y_train shape: (392,)\n"
     ]
    },
    {
     "ename": "ValueError",
     "evalue": "The indices for endog and exog are not aligned",
     "output_type": "error",
     "traceback": [
      "\u001B[1;31m---------------------------------------------------------------------------\u001B[0m",
      "\u001B[1;31mValueError\u001B[0m                                Traceback (most recent call last)",
      "Cell \u001B[1;32mIn[9], line 16\u001B[0m\n\u001B[0;32m     13\u001B[0m \u001B[38;5;28mprint\u001B[39m(\u001B[38;5;124mf\u001B[39m\u001B[38;5;124m\"\u001B[39m\u001B[38;5;124mX_train shape: \u001B[39m\u001B[38;5;132;01m{\u001B[39;00mX_train\u001B[38;5;241m.\u001B[39mshape\u001B[38;5;132;01m}\u001B[39;00m\u001B[38;5;124m\"\u001B[39m)\n\u001B[0;32m     14\u001B[0m \u001B[38;5;28mprint\u001B[39m(\u001B[38;5;124mf\u001B[39m\u001B[38;5;124m\"\u001B[39m\u001B[38;5;124my_train shape: \u001B[39m\u001B[38;5;132;01m{\u001B[39;00my_train\u001B[38;5;241m.\u001B[39mshape\u001B[38;5;132;01m}\u001B[39;00m\u001B[38;5;124m\"\u001B[39m)\n\u001B[1;32m---> 16\u001B[0m model \u001B[38;5;241m=\u001B[39m \u001B[43msm\u001B[49m\u001B[38;5;241;43m.\u001B[39;49m\u001B[43mOLS\u001B[49m\u001B[43m(\u001B[49m\u001B[43my_train\u001B[49m\u001B[43m,\u001B[49m\u001B[43m \u001B[49m\u001B[43mX_train\u001B[49m\u001B[43m)\u001B[49m\n\u001B[0;32m     17\u001B[0m results \u001B[38;5;241m=\u001B[39m model\u001B[38;5;241m.\u001B[39mfit()\n\u001B[0;32m     18\u001B[0m \u001B[38;5;28mprint\u001B[39m(results\u001B[38;5;241m.\u001B[39msummary())\n",
      "File \u001B[1;32m~\\AppData\\Local\\JetBrains\\PyCharm2024.3\\demo\\PyCharmLearningProject2\\.venv\\Lib\\site-packages\\statsmodels\\regression\\linear_model.py:921\u001B[0m, in \u001B[0;36mOLS.__init__\u001B[1;34m(self, endog, exog, missing, hasconst, **kwargs)\u001B[0m\n\u001B[0;32m    918\u001B[0m     msg \u001B[38;5;241m=\u001B[39m (\u001B[38;5;124m\"\u001B[39m\u001B[38;5;124mWeights are not supported in OLS and will be ignored\u001B[39m\u001B[38;5;124m\"\u001B[39m\n\u001B[0;32m    919\u001B[0m            \u001B[38;5;124m\"\u001B[39m\u001B[38;5;124mAn exception will be raised in the next version.\u001B[39m\u001B[38;5;124m\"\u001B[39m)\n\u001B[0;32m    920\u001B[0m     warnings\u001B[38;5;241m.\u001B[39mwarn(msg, ValueWarning)\n\u001B[1;32m--> 921\u001B[0m \u001B[38;5;28;43msuper\u001B[39;49m\u001B[43m(\u001B[49m\u001B[43m)\u001B[49m\u001B[38;5;241;43m.\u001B[39;49m\u001B[38;5;21;43m__init__\u001B[39;49m\u001B[43m(\u001B[49m\u001B[43mendog\u001B[49m\u001B[43m,\u001B[49m\u001B[43m \u001B[49m\u001B[43mexog\u001B[49m\u001B[43m,\u001B[49m\u001B[43m \u001B[49m\u001B[43mmissing\u001B[49m\u001B[38;5;241;43m=\u001B[39;49m\u001B[43mmissing\u001B[49m\u001B[43m,\u001B[49m\n\u001B[0;32m    922\u001B[0m \u001B[43m                          \u001B[49m\u001B[43mhasconst\u001B[49m\u001B[38;5;241;43m=\u001B[39;49m\u001B[43mhasconst\u001B[49m\u001B[43m,\u001B[49m\u001B[43m \u001B[49m\u001B[38;5;241;43m*\u001B[39;49m\u001B[38;5;241;43m*\u001B[39;49m\u001B[43mkwargs\u001B[49m\u001B[43m)\u001B[49m\n\u001B[0;32m    923\u001B[0m \u001B[38;5;28;01mif\u001B[39;00m \u001B[38;5;124m\"\u001B[39m\u001B[38;5;124mweights\u001B[39m\u001B[38;5;124m\"\u001B[39m \u001B[38;5;129;01min\u001B[39;00m \u001B[38;5;28mself\u001B[39m\u001B[38;5;241m.\u001B[39m_init_keys:\n\u001B[0;32m    924\u001B[0m     \u001B[38;5;28mself\u001B[39m\u001B[38;5;241m.\u001B[39m_init_keys\u001B[38;5;241m.\u001B[39mremove(\u001B[38;5;124m\"\u001B[39m\u001B[38;5;124mweights\u001B[39m\u001B[38;5;124m\"\u001B[39m)\n",
      "File \u001B[1;32m~\\AppData\\Local\\JetBrains\\PyCharm2024.3\\demo\\PyCharmLearningProject2\\.venv\\Lib\\site-packages\\statsmodels\\regression\\linear_model.py:746\u001B[0m, in \u001B[0;36mWLS.__init__\u001B[1;34m(self, endog, exog, weights, missing, hasconst, **kwargs)\u001B[0m\n\u001B[0;32m    744\u001B[0m \u001B[38;5;28;01melse\u001B[39;00m:\n\u001B[0;32m    745\u001B[0m     weights \u001B[38;5;241m=\u001B[39m weights\u001B[38;5;241m.\u001B[39msqueeze()\n\u001B[1;32m--> 746\u001B[0m \u001B[38;5;28;43msuper\u001B[39;49m\u001B[43m(\u001B[49m\u001B[43m)\u001B[49m\u001B[38;5;241;43m.\u001B[39;49m\u001B[38;5;21;43m__init__\u001B[39;49m\u001B[43m(\u001B[49m\u001B[43mendog\u001B[49m\u001B[43m,\u001B[49m\u001B[43m \u001B[49m\u001B[43mexog\u001B[49m\u001B[43m,\u001B[49m\u001B[43m \u001B[49m\u001B[43mmissing\u001B[49m\u001B[38;5;241;43m=\u001B[39;49m\u001B[43mmissing\u001B[49m\u001B[43m,\u001B[49m\n\u001B[0;32m    747\u001B[0m \u001B[43m                          \u001B[49m\u001B[43mweights\u001B[49m\u001B[38;5;241;43m=\u001B[39;49m\u001B[43mweights\u001B[49m\u001B[43m,\u001B[49m\u001B[43m \u001B[49m\u001B[43mhasconst\u001B[49m\u001B[38;5;241;43m=\u001B[39;49m\u001B[43mhasconst\u001B[49m\u001B[43m,\u001B[49m\u001B[43m \u001B[49m\u001B[38;5;241;43m*\u001B[39;49m\u001B[38;5;241;43m*\u001B[39;49m\u001B[43mkwargs\u001B[49m\u001B[43m)\u001B[49m\n\u001B[0;32m    748\u001B[0m nobs \u001B[38;5;241m=\u001B[39m \u001B[38;5;28mself\u001B[39m\u001B[38;5;241m.\u001B[39mexog\u001B[38;5;241m.\u001B[39mshape[\u001B[38;5;241m0\u001B[39m]\n\u001B[0;32m    749\u001B[0m weights \u001B[38;5;241m=\u001B[39m \u001B[38;5;28mself\u001B[39m\u001B[38;5;241m.\u001B[39mweights\n",
      "File \u001B[1;32m~\\AppData\\Local\\JetBrains\\PyCharm2024.3\\demo\\PyCharmLearningProject2\\.venv\\Lib\\site-packages\\statsmodels\\regression\\linear_model.py:200\u001B[0m, in \u001B[0;36mRegressionModel.__init__\u001B[1;34m(self, endog, exog, **kwargs)\u001B[0m\n\u001B[0;32m    199\u001B[0m \u001B[38;5;28;01mdef\u001B[39;00m\u001B[38;5;250m \u001B[39m\u001B[38;5;21m__init__\u001B[39m(\u001B[38;5;28mself\u001B[39m, endog, exog, \u001B[38;5;241m*\u001B[39m\u001B[38;5;241m*\u001B[39mkwargs):\n\u001B[1;32m--> 200\u001B[0m     \u001B[38;5;28;43msuper\u001B[39;49m\u001B[43m(\u001B[49m\u001B[43m)\u001B[49m\u001B[38;5;241;43m.\u001B[39;49m\u001B[38;5;21;43m__init__\u001B[39;49m\u001B[43m(\u001B[49m\u001B[43mendog\u001B[49m\u001B[43m,\u001B[49m\u001B[43m \u001B[49m\u001B[43mexog\u001B[49m\u001B[43m,\u001B[49m\u001B[43m \u001B[49m\u001B[38;5;241;43m*\u001B[39;49m\u001B[38;5;241;43m*\u001B[39;49m\u001B[43mkwargs\u001B[49m\u001B[43m)\u001B[49m\n\u001B[0;32m    201\u001B[0m     \u001B[38;5;28mself\u001B[39m\u001B[38;5;241m.\u001B[39mpinv_wexog: Float64Array \u001B[38;5;241m|\u001B[39m \u001B[38;5;28;01mNone\u001B[39;00m \u001B[38;5;241m=\u001B[39m \u001B[38;5;28;01mNone\u001B[39;00m\n\u001B[0;32m    202\u001B[0m     \u001B[38;5;28mself\u001B[39m\u001B[38;5;241m.\u001B[39m_data_attr\u001B[38;5;241m.\u001B[39mextend([\u001B[38;5;124m'\u001B[39m\u001B[38;5;124mpinv_wexog\u001B[39m\u001B[38;5;124m'\u001B[39m, \u001B[38;5;124m'\u001B[39m\u001B[38;5;124mwendog\u001B[39m\u001B[38;5;124m'\u001B[39m, \u001B[38;5;124m'\u001B[39m\u001B[38;5;124mwexog\u001B[39m\u001B[38;5;124m'\u001B[39m, \u001B[38;5;124m'\u001B[39m\u001B[38;5;124mweights\u001B[39m\u001B[38;5;124m'\u001B[39m])\n",
      "File \u001B[1;32m~\\AppData\\Local\\JetBrains\\PyCharm2024.3\\demo\\PyCharmLearningProject2\\.venv\\Lib\\site-packages\\statsmodels\\base\\model.py:270\u001B[0m, in \u001B[0;36mLikelihoodModel.__init__\u001B[1;34m(self, endog, exog, **kwargs)\u001B[0m\n\u001B[0;32m    269\u001B[0m \u001B[38;5;28;01mdef\u001B[39;00m\u001B[38;5;250m \u001B[39m\u001B[38;5;21m__init__\u001B[39m(\u001B[38;5;28mself\u001B[39m, endog, exog\u001B[38;5;241m=\u001B[39m\u001B[38;5;28;01mNone\u001B[39;00m, \u001B[38;5;241m*\u001B[39m\u001B[38;5;241m*\u001B[39mkwargs):\n\u001B[1;32m--> 270\u001B[0m     \u001B[38;5;28;43msuper\u001B[39;49m\u001B[43m(\u001B[49m\u001B[43m)\u001B[49m\u001B[38;5;241;43m.\u001B[39;49m\u001B[38;5;21;43m__init__\u001B[39;49m\u001B[43m(\u001B[49m\u001B[43mendog\u001B[49m\u001B[43m,\u001B[49m\u001B[43m \u001B[49m\u001B[43mexog\u001B[49m\u001B[43m,\u001B[49m\u001B[43m \u001B[49m\u001B[38;5;241;43m*\u001B[39;49m\u001B[38;5;241;43m*\u001B[39;49m\u001B[43mkwargs\u001B[49m\u001B[43m)\u001B[49m\n\u001B[0;32m    271\u001B[0m     \u001B[38;5;28mself\u001B[39m\u001B[38;5;241m.\u001B[39minitialize()\n",
      "File \u001B[1;32m~\\AppData\\Local\\JetBrains\\PyCharm2024.3\\demo\\PyCharmLearningProject2\\.venv\\Lib\\site-packages\\statsmodels\\base\\model.py:95\u001B[0m, in \u001B[0;36mModel.__init__\u001B[1;34m(self, endog, exog, **kwargs)\u001B[0m\n\u001B[0;32m     93\u001B[0m missing \u001B[38;5;241m=\u001B[39m kwargs\u001B[38;5;241m.\u001B[39mpop(\u001B[38;5;124m'\u001B[39m\u001B[38;5;124mmissing\u001B[39m\u001B[38;5;124m'\u001B[39m, \u001B[38;5;124m'\u001B[39m\u001B[38;5;124mnone\u001B[39m\u001B[38;5;124m'\u001B[39m)\n\u001B[0;32m     94\u001B[0m hasconst \u001B[38;5;241m=\u001B[39m kwargs\u001B[38;5;241m.\u001B[39mpop(\u001B[38;5;124m'\u001B[39m\u001B[38;5;124mhasconst\u001B[39m\u001B[38;5;124m'\u001B[39m, \u001B[38;5;28;01mNone\u001B[39;00m)\n\u001B[1;32m---> 95\u001B[0m \u001B[38;5;28mself\u001B[39m\u001B[38;5;241m.\u001B[39mdata \u001B[38;5;241m=\u001B[39m \u001B[38;5;28;43mself\u001B[39;49m\u001B[38;5;241;43m.\u001B[39;49m\u001B[43m_handle_data\u001B[49m\u001B[43m(\u001B[49m\u001B[43mendog\u001B[49m\u001B[43m,\u001B[49m\u001B[43m \u001B[49m\u001B[43mexog\u001B[49m\u001B[43m,\u001B[49m\u001B[43m \u001B[49m\u001B[43mmissing\u001B[49m\u001B[43m,\u001B[49m\u001B[43m \u001B[49m\u001B[43mhasconst\u001B[49m\u001B[43m,\u001B[49m\n\u001B[0;32m     96\u001B[0m \u001B[43m                              \u001B[49m\u001B[38;5;241;43m*\u001B[39;49m\u001B[38;5;241;43m*\u001B[39;49m\u001B[43mkwargs\u001B[49m\u001B[43m)\u001B[49m\n\u001B[0;32m     97\u001B[0m \u001B[38;5;28mself\u001B[39m\u001B[38;5;241m.\u001B[39mk_constant \u001B[38;5;241m=\u001B[39m \u001B[38;5;28mself\u001B[39m\u001B[38;5;241m.\u001B[39mdata\u001B[38;5;241m.\u001B[39mk_constant\n\u001B[0;32m     98\u001B[0m \u001B[38;5;28mself\u001B[39m\u001B[38;5;241m.\u001B[39mexog \u001B[38;5;241m=\u001B[39m \u001B[38;5;28mself\u001B[39m\u001B[38;5;241m.\u001B[39mdata\u001B[38;5;241m.\u001B[39mexog\n",
      "File \u001B[1;32m~\\AppData\\Local\\JetBrains\\PyCharm2024.3\\demo\\PyCharmLearningProject2\\.venv\\Lib\\site-packages\\statsmodels\\base\\model.py:135\u001B[0m, in \u001B[0;36mModel._handle_data\u001B[1;34m(self, endog, exog, missing, hasconst, **kwargs)\u001B[0m\n\u001B[0;32m    134\u001B[0m \u001B[38;5;28;01mdef\u001B[39;00m\u001B[38;5;250m \u001B[39m\u001B[38;5;21m_handle_data\u001B[39m(\u001B[38;5;28mself\u001B[39m, endog, exog, missing, hasconst, \u001B[38;5;241m*\u001B[39m\u001B[38;5;241m*\u001B[39mkwargs):\n\u001B[1;32m--> 135\u001B[0m     data \u001B[38;5;241m=\u001B[39m \u001B[43mhandle_data\u001B[49m\u001B[43m(\u001B[49m\u001B[43mendog\u001B[49m\u001B[43m,\u001B[49m\u001B[43m \u001B[49m\u001B[43mexog\u001B[49m\u001B[43m,\u001B[49m\u001B[43m \u001B[49m\u001B[43mmissing\u001B[49m\u001B[43m,\u001B[49m\u001B[43m \u001B[49m\u001B[43mhasconst\u001B[49m\u001B[43m,\u001B[49m\u001B[43m \u001B[49m\u001B[38;5;241;43m*\u001B[39;49m\u001B[38;5;241;43m*\u001B[39;49m\u001B[43mkwargs\u001B[49m\u001B[43m)\u001B[49m\n\u001B[0;32m    136\u001B[0m     \u001B[38;5;66;03m# kwargs arrays could have changed, easier to just attach here\u001B[39;00m\n\u001B[0;32m    137\u001B[0m     \u001B[38;5;28;01mfor\u001B[39;00m key \u001B[38;5;129;01min\u001B[39;00m kwargs:\n",
      "File \u001B[1;32m~\\AppData\\Local\\JetBrains\\PyCharm2024.3\\demo\\PyCharmLearningProject2\\.venv\\Lib\\site-packages\\statsmodels\\base\\data.py:675\u001B[0m, in \u001B[0;36mhandle_data\u001B[1;34m(endog, exog, missing, hasconst, **kwargs)\u001B[0m\n\u001B[0;32m    672\u001B[0m     exog \u001B[38;5;241m=\u001B[39m np\u001B[38;5;241m.\u001B[39masarray(exog)\n\u001B[0;32m    674\u001B[0m klass \u001B[38;5;241m=\u001B[39m handle_data_class_factory(endog, exog)\n\u001B[1;32m--> 675\u001B[0m \u001B[38;5;28;01mreturn\u001B[39;00m \u001B[43mklass\u001B[49m\u001B[43m(\u001B[49m\u001B[43mendog\u001B[49m\u001B[43m,\u001B[49m\u001B[43m \u001B[49m\u001B[43mexog\u001B[49m\u001B[38;5;241;43m=\u001B[39;49m\u001B[43mexog\u001B[49m\u001B[43m,\u001B[49m\u001B[43m \u001B[49m\u001B[43mmissing\u001B[49m\u001B[38;5;241;43m=\u001B[39;49m\u001B[43mmissing\u001B[49m\u001B[43m,\u001B[49m\u001B[43m \u001B[49m\u001B[43mhasconst\u001B[49m\u001B[38;5;241;43m=\u001B[39;49m\u001B[43mhasconst\u001B[49m\u001B[43m,\u001B[49m\n\u001B[0;32m    676\u001B[0m \u001B[43m             \u001B[49m\u001B[38;5;241;43m*\u001B[39;49m\u001B[38;5;241;43m*\u001B[39;49m\u001B[43mkwargs\u001B[49m\u001B[43m)\u001B[49m\n",
      "File \u001B[1;32m~\\AppData\\Local\\JetBrains\\PyCharm2024.3\\demo\\PyCharmLearningProject2\\.venv\\Lib\\site-packages\\statsmodels\\base\\data.py:89\u001B[0m, in \u001B[0;36mModelData.__init__\u001B[1;34m(self, endog, exog, missing, hasconst, **kwargs)\u001B[0m\n\u001B[0;32m     87\u001B[0m \u001B[38;5;28mself\u001B[39m\u001B[38;5;241m.\u001B[39mk_constant \u001B[38;5;241m=\u001B[39m \u001B[38;5;241m0\u001B[39m\n\u001B[0;32m     88\u001B[0m \u001B[38;5;28mself\u001B[39m\u001B[38;5;241m.\u001B[39m_handle_constant(hasconst)\n\u001B[1;32m---> 89\u001B[0m \u001B[38;5;28;43mself\u001B[39;49m\u001B[38;5;241;43m.\u001B[39;49m\u001B[43m_check_integrity\u001B[49m\u001B[43m(\u001B[49m\u001B[43m)\u001B[49m\n\u001B[0;32m     90\u001B[0m \u001B[38;5;28mself\u001B[39m\u001B[38;5;241m.\u001B[39m_cache \u001B[38;5;241m=\u001B[39m {}\n",
      "File \u001B[1;32m~\\AppData\\Local\\JetBrains\\PyCharm2024.3\\demo\\PyCharmLearningProject2\\.venv\\Lib\\site-packages\\statsmodels\\base\\data.py:533\u001B[0m, in \u001B[0;36mPandasData._check_integrity\u001B[1;34m(self)\u001B[0m\n\u001B[0;32m    529\u001B[0m \u001B[38;5;66;03m# exog can be None and we could be upcasting one or the other\u001B[39;00m\n\u001B[0;32m    530\u001B[0m \u001B[38;5;28;01mif\u001B[39;00m (exog \u001B[38;5;129;01mis\u001B[39;00m \u001B[38;5;129;01mnot\u001B[39;00m \u001B[38;5;28;01mNone\u001B[39;00m \u001B[38;5;129;01mand\u001B[39;00m\n\u001B[0;32m    531\u001B[0m         (\u001B[38;5;28mhasattr\u001B[39m(endog, \u001B[38;5;124m'\u001B[39m\u001B[38;5;124mindex\u001B[39m\u001B[38;5;124m'\u001B[39m) \u001B[38;5;129;01mand\u001B[39;00m \u001B[38;5;28mhasattr\u001B[39m(exog, \u001B[38;5;124m'\u001B[39m\u001B[38;5;124mindex\u001B[39m\u001B[38;5;124m'\u001B[39m)) \u001B[38;5;129;01mand\u001B[39;00m\n\u001B[0;32m    532\u001B[0m         \u001B[38;5;129;01mnot\u001B[39;00m \u001B[38;5;28mself\u001B[39m\u001B[38;5;241m.\u001B[39morig_endog\u001B[38;5;241m.\u001B[39mindex\u001B[38;5;241m.\u001B[39mequals(\u001B[38;5;28mself\u001B[39m\u001B[38;5;241m.\u001B[39morig_exog\u001B[38;5;241m.\u001B[39mindex)):\n\u001B[1;32m--> 533\u001B[0m     \u001B[38;5;28;01mraise\u001B[39;00m \u001B[38;5;167;01mValueError\u001B[39;00m(\u001B[38;5;124m\"\u001B[39m\u001B[38;5;124mThe indices for endog and exog are not aligned\u001B[39m\u001B[38;5;124m\"\u001B[39m)\n\u001B[0;32m    534\u001B[0m \u001B[38;5;28msuper\u001B[39m()\u001B[38;5;241m.\u001B[39m_check_integrity()\n",
      "\u001B[1;31mValueError\u001B[0m: The indices for endog and exog are not aligned"
     ]
    }
   ],
   "execution_count": 9
  },
  {
   "cell_type": "code",
   "execution_count": null,
   "id": "50518fa7-ade6-474e-85c5-cdc65cf05a94",
   "metadata": {},
   "outputs": [],
   "source": []
  }
 ],
 "metadata": {
  "kernelspec": {
   "display_name": "Python 3 (ipykernel)",
   "language": "python",
   "name": "python3"
  },
  "language_info": {
   "codemirror_mode": {
    "name": "ipython",
    "version": 3
   },
   "file_extension": ".py",
   "mimetype": "text/x-python",
   "name": "python",
   "nbconvert_exporter": "python",
   "pygments_lexer": "ipython3",
   "version": "3.13.0"
  }
 },
 "nbformat": 4,
 "nbformat_minor": 5
}
