{
 "cells": [
  {
   "cell_type": "code",
   "id": "initial_id",
   "metadata": {
    "collapsed": true,
    "ExecuteTime": {
     "end_time": "2025-04-25T01:00:42.761567Z",
     "start_time": "2025-04-25T01:00:42.758051Z"
    }
   },
   "source": [
    "import numpy as np\n",
    "import pandas as pd\n",
    "from matplotlib.pyplot import subplots\n",
    "import statsmodels.api as sm\n",
    "from ISLP import load_data\n",
    "from ISLP.models import (ModelSpec as MS,\n",
    "                         summarize)"
   ],
   "outputs": [],
   "execution_count": 3
  },
  {
   "metadata": {
    "ExecuteTime": {
     "end_time": "2025-04-25T01:00:42.798013Z",
     "start_time": "2025-04-25T01:00:42.794513Z"
    }
   },
   "cell_type": "code",
   "source": [
    "from ISLP import confusion_table\n",
    "from ISLP.models import contrast\n",
    "from sklearn.model_selection import train_test_split\n",
    "from sklearn.linear_model import LogisticRegression"
   ],
   "id": "bd26527b57774efb",
   "outputs": [],
   "execution_count": 4
  },
  {
   "metadata": {
    "ExecuteTime": {
     "end_time": "2025-04-25T01:00:42.858377Z",
     "start_time": "2025-04-25T01:00:42.834816Z"
    }
   },
   "cell_type": "code",
   "source": [
    "Smarket = load_data('Smarket')\n",
    "Smarket"
   ],
   "id": "ce484da84c88df99",
   "outputs": [
    {
     "data": {
      "text/plain": [
       "      Year   Lag1   Lag2   Lag3   Lag4   Lag5   Volume  Today Direction\n",
       "0     2001  0.381 -0.192 -2.624 -1.055  5.010  1.19130  0.959        Up\n",
       "1     2001  0.959  0.381 -0.192 -2.624 -1.055  1.29650  1.032        Up\n",
       "2     2001  1.032  0.959  0.381 -0.192 -2.624  1.41120 -0.623      Down\n",
       "3     2001 -0.623  1.032  0.959  0.381 -0.192  1.27600  0.614        Up\n",
       "4     2001  0.614 -0.623  1.032  0.959  0.381  1.20570  0.213        Up\n",
       "...    ...    ...    ...    ...    ...    ...      ...    ...       ...\n",
       "1245  2005  0.422  0.252 -0.024 -0.584 -0.285  1.88850  0.043        Up\n",
       "1246  2005  0.043  0.422  0.252 -0.024 -0.584  1.28581 -0.955      Down\n",
       "1247  2005 -0.955  0.043  0.422  0.252 -0.024  1.54047  0.130        Up\n",
       "1248  2005  0.130 -0.955  0.043  0.422  0.252  1.42236 -0.298      Down\n",
       "1249  2005 -0.298  0.130 -0.955  0.043  0.422  1.38254 -0.489      Down\n",
       "\n",
       "[1250 rows x 9 columns]"
      ],
      "text/html": [
       "<div>\n",
       "<style scoped>\n",
       "    .dataframe tbody tr th:only-of-type {\n",
       "        vertical-align: middle;\n",
       "    }\n",
       "\n",
       "    .dataframe tbody tr th {\n",
       "        vertical-align: top;\n",
       "    }\n",
       "\n",
       "    .dataframe thead th {\n",
       "        text-align: right;\n",
       "    }\n",
       "</style>\n",
       "<table border=\"1\" class=\"dataframe\">\n",
       "  <thead>\n",
       "    <tr style=\"text-align: right;\">\n",
       "      <th></th>\n",
       "      <th>Year</th>\n",
       "      <th>Lag1</th>\n",
       "      <th>Lag2</th>\n",
       "      <th>Lag3</th>\n",
       "      <th>Lag4</th>\n",
       "      <th>Lag5</th>\n",
       "      <th>Volume</th>\n",
       "      <th>Today</th>\n",
       "      <th>Direction</th>\n",
       "    </tr>\n",
       "  </thead>\n",
       "  <tbody>\n",
       "    <tr>\n",
       "      <th>0</th>\n",
       "      <td>2001</td>\n",
       "      <td>0.381</td>\n",
       "      <td>-0.192</td>\n",
       "      <td>-2.624</td>\n",
       "      <td>-1.055</td>\n",
       "      <td>5.010</td>\n",
       "      <td>1.19130</td>\n",
       "      <td>0.959</td>\n",
       "      <td>Up</td>\n",
       "    </tr>\n",
       "    <tr>\n",
       "      <th>1</th>\n",
       "      <td>2001</td>\n",
       "      <td>0.959</td>\n",
       "      <td>0.381</td>\n",
       "      <td>-0.192</td>\n",
       "      <td>-2.624</td>\n",
       "      <td>-1.055</td>\n",
       "      <td>1.29650</td>\n",
       "      <td>1.032</td>\n",
       "      <td>Up</td>\n",
       "    </tr>\n",
       "    <tr>\n",
       "      <th>2</th>\n",
       "      <td>2001</td>\n",
       "      <td>1.032</td>\n",
       "      <td>0.959</td>\n",
       "      <td>0.381</td>\n",
       "      <td>-0.192</td>\n",
       "      <td>-2.624</td>\n",
       "      <td>1.41120</td>\n",
       "      <td>-0.623</td>\n",
       "      <td>Down</td>\n",
       "    </tr>\n",
       "    <tr>\n",
       "      <th>3</th>\n",
       "      <td>2001</td>\n",
       "      <td>-0.623</td>\n",
       "      <td>1.032</td>\n",
       "      <td>0.959</td>\n",
       "      <td>0.381</td>\n",
       "      <td>-0.192</td>\n",
       "      <td>1.27600</td>\n",
       "      <td>0.614</td>\n",
       "      <td>Up</td>\n",
       "    </tr>\n",
       "    <tr>\n",
       "      <th>4</th>\n",
       "      <td>2001</td>\n",
       "      <td>0.614</td>\n",
       "      <td>-0.623</td>\n",
       "      <td>1.032</td>\n",
       "      <td>0.959</td>\n",
       "      <td>0.381</td>\n",
       "      <td>1.20570</td>\n",
       "      <td>0.213</td>\n",
       "      <td>Up</td>\n",
       "    </tr>\n",
       "    <tr>\n",
       "      <th>...</th>\n",
       "      <td>...</td>\n",
       "      <td>...</td>\n",
       "      <td>...</td>\n",
       "      <td>...</td>\n",
       "      <td>...</td>\n",
       "      <td>...</td>\n",
       "      <td>...</td>\n",
       "      <td>...</td>\n",
       "      <td>...</td>\n",
       "    </tr>\n",
       "    <tr>\n",
       "      <th>1245</th>\n",
       "      <td>2005</td>\n",
       "      <td>0.422</td>\n",
       "      <td>0.252</td>\n",
       "      <td>-0.024</td>\n",
       "      <td>-0.584</td>\n",
       "      <td>-0.285</td>\n",
       "      <td>1.88850</td>\n",
       "      <td>0.043</td>\n",
       "      <td>Up</td>\n",
       "    </tr>\n",
       "    <tr>\n",
       "      <th>1246</th>\n",
       "      <td>2005</td>\n",
       "      <td>0.043</td>\n",
       "      <td>0.422</td>\n",
       "      <td>0.252</td>\n",
       "      <td>-0.024</td>\n",
       "      <td>-0.584</td>\n",
       "      <td>1.28581</td>\n",
       "      <td>-0.955</td>\n",
       "      <td>Down</td>\n",
       "    </tr>\n",
       "    <tr>\n",
       "      <th>1247</th>\n",
       "      <td>2005</td>\n",
       "      <td>-0.955</td>\n",
       "      <td>0.043</td>\n",
       "      <td>0.422</td>\n",
       "      <td>0.252</td>\n",
       "      <td>-0.024</td>\n",
       "      <td>1.54047</td>\n",
       "      <td>0.130</td>\n",
       "      <td>Up</td>\n",
       "    </tr>\n",
       "    <tr>\n",
       "      <th>1248</th>\n",
       "      <td>2005</td>\n",
       "      <td>0.130</td>\n",
       "      <td>-0.955</td>\n",
       "      <td>0.043</td>\n",
       "      <td>0.422</td>\n",
       "      <td>0.252</td>\n",
       "      <td>1.42236</td>\n",
       "      <td>-0.298</td>\n",
       "      <td>Down</td>\n",
       "    </tr>\n",
       "    <tr>\n",
       "      <th>1249</th>\n",
       "      <td>2005</td>\n",
       "      <td>-0.298</td>\n",
       "      <td>0.130</td>\n",
       "      <td>-0.955</td>\n",
       "      <td>0.043</td>\n",
       "      <td>0.422</td>\n",
       "      <td>1.38254</td>\n",
       "      <td>-0.489</td>\n",
       "      <td>Down</td>\n",
       "    </tr>\n",
       "  </tbody>\n",
       "</table>\n",
       "<p>1250 rows × 9 columns</p>\n",
       "</div>"
      ]
     },
     "execution_count": 5,
     "metadata": {},
     "output_type": "execute_result"
    }
   ],
   "execution_count": 5
  },
  {
   "metadata": {
    "ExecuteTime": {
     "end_time": "2025-04-25T01:00:42.952855Z",
     "start_time": "2025-04-25T01:00:42.939229Z"
    }
   },
   "cell_type": "code",
   "source": "Smarket.corr(numeric_only = True)",
   "id": "fa79dddc80ec1834",
   "outputs": [
    {
     "data": {
      "text/plain": [
       "            Year      Lag1      Lag2      Lag3      Lag4      Lag5    Volume  \\\n",
       "Year    1.000000  0.029700  0.030596  0.033195  0.035689  0.029788  0.539006   \n",
       "Lag1    0.029700  1.000000 -0.026294 -0.010803 -0.002986 -0.005675  0.040910   \n",
       "Lag2    0.030596 -0.026294  1.000000 -0.025897 -0.010854 -0.003558 -0.043383   \n",
       "Lag3    0.033195 -0.010803 -0.025897  1.000000 -0.024051 -0.018808 -0.041824   \n",
       "Lag4    0.035689 -0.002986 -0.010854 -0.024051  1.000000 -0.027084 -0.048414   \n",
       "Lag5    0.029788 -0.005675 -0.003558 -0.018808 -0.027084  1.000000 -0.022002   \n",
       "Volume  0.539006  0.040910 -0.043383 -0.041824 -0.048414 -0.022002  1.000000   \n",
       "Today   0.030095 -0.026155 -0.010250 -0.002448 -0.006900 -0.034860  0.014592   \n",
       "\n",
       "           Today  \n",
       "Year    0.030095  \n",
       "Lag1   -0.026155  \n",
       "Lag2   -0.010250  \n",
       "Lag3   -0.002448  \n",
       "Lag4   -0.006900  \n",
       "Lag5   -0.034860  \n",
       "Volume  0.014592  \n",
       "Today   1.000000  "
      ],
      "text/html": [
       "<div>\n",
       "<style scoped>\n",
       "    .dataframe tbody tr th:only-of-type {\n",
       "        vertical-align: middle;\n",
       "    }\n",
       "\n",
       "    .dataframe tbody tr th {\n",
       "        vertical-align: top;\n",
       "    }\n",
       "\n",
       "    .dataframe thead th {\n",
       "        text-align: right;\n",
       "    }\n",
       "</style>\n",
       "<table border=\"1\" class=\"dataframe\">\n",
       "  <thead>\n",
       "    <tr style=\"text-align: right;\">\n",
       "      <th></th>\n",
       "      <th>Year</th>\n",
       "      <th>Lag1</th>\n",
       "      <th>Lag2</th>\n",
       "      <th>Lag3</th>\n",
       "      <th>Lag4</th>\n",
       "      <th>Lag5</th>\n",
       "      <th>Volume</th>\n",
       "      <th>Today</th>\n",
       "    </tr>\n",
       "  </thead>\n",
       "  <tbody>\n",
       "    <tr>\n",
       "      <th>Year</th>\n",
       "      <td>1.000000</td>\n",
       "      <td>0.029700</td>\n",
       "      <td>0.030596</td>\n",
       "      <td>0.033195</td>\n",
       "      <td>0.035689</td>\n",
       "      <td>0.029788</td>\n",
       "      <td>0.539006</td>\n",
       "      <td>0.030095</td>\n",
       "    </tr>\n",
       "    <tr>\n",
       "      <th>Lag1</th>\n",
       "      <td>0.029700</td>\n",
       "      <td>1.000000</td>\n",
       "      <td>-0.026294</td>\n",
       "      <td>-0.010803</td>\n",
       "      <td>-0.002986</td>\n",
       "      <td>-0.005675</td>\n",
       "      <td>0.040910</td>\n",
       "      <td>-0.026155</td>\n",
       "    </tr>\n",
       "    <tr>\n",
       "      <th>Lag2</th>\n",
       "      <td>0.030596</td>\n",
       "      <td>-0.026294</td>\n",
       "      <td>1.000000</td>\n",
       "      <td>-0.025897</td>\n",
       "      <td>-0.010854</td>\n",
       "      <td>-0.003558</td>\n",
       "      <td>-0.043383</td>\n",
       "      <td>-0.010250</td>\n",
       "    </tr>\n",
       "    <tr>\n",
       "      <th>Lag3</th>\n",
       "      <td>0.033195</td>\n",
       "      <td>-0.010803</td>\n",
       "      <td>-0.025897</td>\n",
       "      <td>1.000000</td>\n",
       "      <td>-0.024051</td>\n",
       "      <td>-0.018808</td>\n",
       "      <td>-0.041824</td>\n",
       "      <td>-0.002448</td>\n",
       "    </tr>\n",
       "    <tr>\n",
       "      <th>Lag4</th>\n",
       "      <td>0.035689</td>\n",
       "      <td>-0.002986</td>\n",
       "      <td>-0.010854</td>\n",
       "      <td>-0.024051</td>\n",
       "      <td>1.000000</td>\n",
       "      <td>-0.027084</td>\n",
       "      <td>-0.048414</td>\n",
       "      <td>-0.006900</td>\n",
       "    </tr>\n",
       "    <tr>\n",
       "      <th>Lag5</th>\n",
       "      <td>0.029788</td>\n",
       "      <td>-0.005675</td>\n",
       "      <td>-0.003558</td>\n",
       "      <td>-0.018808</td>\n",
       "      <td>-0.027084</td>\n",
       "      <td>1.000000</td>\n",
       "      <td>-0.022002</td>\n",
       "      <td>-0.034860</td>\n",
       "    </tr>\n",
       "    <tr>\n",
       "      <th>Volume</th>\n",
       "      <td>0.539006</td>\n",
       "      <td>0.040910</td>\n",
       "      <td>-0.043383</td>\n",
       "      <td>-0.041824</td>\n",
       "      <td>-0.048414</td>\n",
       "      <td>-0.022002</td>\n",
       "      <td>1.000000</td>\n",
       "      <td>0.014592</td>\n",
       "    </tr>\n",
       "    <tr>\n",
       "      <th>Today</th>\n",
       "      <td>0.030095</td>\n",
       "      <td>-0.026155</td>\n",
       "      <td>-0.010250</td>\n",
       "      <td>-0.002448</td>\n",
       "      <td>-0.006900</td>\n",
       "      <td>-0.034860</td>\n",
       "      <td>0.014592</td>\n",
       "      <td>1.000000</td>\n",
       "    </tr>\n",
       "  </tbody>\n",
       "</table>\n",
       "</div>"
      ]
     },
     "execution_count": 6,
     "metadata": {},
     "output_type": "execute_result"
    }
   ],
   "execution_count": 6
  },
  {
   "metadata": {
    "ExecuteTime": {
     "end_time": "2025-04-25T01:00:43.268793Z",
     "start_time": "2025-04-25T01:00:43.103449Z"
    }
   },
   "cell_type": "code",
   "source": "Smarket.plot(y = 'Volume');",
   "id": "d7e93ea5298b222c",
   "outputs": [
    {
     "data": {
      "text/plain": [
       "<Figure size 640x480 with 1 Axes>"
      ],
      "image/png": "[encoded data removed]"
     },
     "metadata": {},
     "output_type": "display_data"
    }
   ],
   "execution_count": 7
  },
  {
   "metadata": {
    "ExecuteTime": {
     "end_time": "2025-04-25T01:00:43.448982Z",
     "start_time": "2025-04-25T01:00:43.310788Z"
    }
   },
   "cell_type": "code",
   "source": [
    "allvars = Smarket.columns.drop(['Today', 'Direction', 'Year'])\n",
    "design = MS(allvars)\n",
    "X = design.fit_transform(Smarket)\n",
    "y = Smarket.Direction == 'Up'\n",
    "glm = sm.GLM(y,\n",
    "             X,\n",
    "             family = sm.families.Binomial())\n",
    "results = glm.fit()\n",
    "summarize(results)"
   ],
   "id": "f60499862b21452d",
   "outputs": [
    {
     "data": {
      "text/plain": [
       "             coef  std err      z  P>|z|\n",
       "intercept -0.1260    0.241 -0.523  0.601\n",
       "Lag1      -0.0731    0.050 -1.457  0.145\n",
       "Lag2      -0.0423    0.050 -0.845  0.398\n",
       "Lag3       0.0111    0.050  0.222  0.824\n",
       "Lag4       0.0094    0.050  0.187  0.851\n",
       "Lag5       0.0103    0.050  0.208  0.835\n",
       "Volume     0.1354    0.158  0.855  0.392"
      ],
      "text/html": [
       "<div>\n",
       "<style scoped>\n",
       "    .dataframe tbody tr th:only-of-type {\n",
       "        vertical-align: middle;\n",
       "    }\n",
       "\n",
       "    .dataframe tbody tr th {\n",
       "        vertical-align: top;\n",
       "    }\n",
       "\n",
       "    .dataframe thead th {\n",
       "        text-align: right;\n",
       "    }\n",
       "</style>\n",
       "<table border=\"1\" class=\"dataframe\">\n",
       "  <thead>\n",
       "    <tr style=\"text-align: right;\">\n",
       "      <th></th>\n",
       "      <th>coef</th>\n",
       "      <th>std err</th>\n",
       "      <th>z</th>\n",
       "      <th>P&gt;|z|</th>\n",
       "    </tr>\n",
       "  </thead>\n",
       "  <tbody>\n",
       "    <tr>\n",
       "      <th>intercept</th>\n",
       "      <td>-0.1260</td>\n",
       "      <td>0.241</td>\n",
       "      <td>-0.523</td>\n",
       "      <td>0.601</td>\n",
       "    </tr>\n",
       "    <tr>\n",
       "      <th>Lag1</th>\n",
       "      <td>-0.0731</td>\n",
       "      <td>0.050</td>\n",
       "      <td>-1.457</td>\n",
       "      <td>0.145</td>\n",
       "    </tr>\n",
       "    <tr>\n",
       "      <th>Lag2</th>\n",
       "      <td>-0.0423</td>\n",
       "      <td>0.050</td>\n",
       "      <td>-0.845</td>\n",
       "      <td>0.398</td>\n",
       "    </tr>\n",
       "    <tr>\n",
       "      <th>Lag3</th>\n",
       "      <td>0.0111</td>\n",
       "      <td>0.050</td>\n",
       "      <td>0.222</td>\n",
       "      <td>0.824</td>\n",
       "    </tr>\n",
       "    <tr>\n",
       "      <th>Lag4</th>\n",
       "      <td>0.0094</td>\n",
       "      <td>0.050</td>\n",
       "      <td>0.187</td>\n",
       "      <td>0.851</td>\n",
       "    </tr>\n",
       "    <tr>\n",
       "      <th>Lag5</th>\n",
       "      <td>0.0103</td>\n",
       "      <td>0.050</td>\n",
       "      <td>0.208</td>\n",
       "      <td>0.835</td>\n",
       "    </tr>\n",
       "    <tr>\n",
       "      <th>Volume</th>\n",
       "      <td>0.1354</td>\n",
       "      <td>0.158</td>\n",
       "      <td>0.855</td>\n",
       "      <td>0.392</td>\n",
       "    </tr>\n",
       "  </tbody>\n",
       "</table>\n",
       "</div>"
      ]
     },
     "execution_count": 8,
     "metadata": {},
     "output_type": "execute_result"
    }
   ],
   "execution_count": 8
  },
  {
   "metadata": {},
   "cell_type": "markdown",
   "source": [
    "# Question 1\n",
    "What can we say about the predictor Volume? Provide three interpretations:\n",
    "\n",
    "The p-value for Volume is 0.392, which is roughly middle of the pack as far as p-values go among the predictors we used.  The positive coefficient for this predictor suggests that if the the volume goes up then it is more likely to go up today.\n",
    "\n",
    "Furthermore, e^0.1354 = 1.1450 tells us that the odds of the market going up are 1.1450 times higher for each additional unit of Volume.  Equivalently a one unit increase in Volume is associated with a 14.5% increase in the odds of an 'up' day.\n",
    "\n",
    "However, with a p-value of 0.392, the p-value is still relatively large, and so there is no clear evidence of a real association between Volume and Direction."
   ],
   "id": "bea4aed9fb2e7358"
  },
  {
   "metadata": {
    "ExecuteTime": {
     "end_time": "2025-04-25T01:12:17.238057Z",
     "start_time": "2025-04-25T01:12:17.232397Z"
    }
   },
   "cell_type": "code",
   "source": [
    "probs = results.predict()\n",
    "probs[:10]"
   ],
   "id": "549f5ef2f1b8af10",
   "outputs": [
    {
     "data": {
      "text/plain": [
       "array([0.50708413, 0.48146788, 0.48113883, 0.51522236, 0.51078116,\n",
       "       0.50695646, 0.49265087, 0.50922916, 0.51761353, 0.48883778])"
      ]
     },
     "execution_count": 9,
     "metadata": {},
     "output_type": "execute_result"
    }
   ],
   "execution_count": 9
  },
  {
   "metadata": {
    "ExecuteTime": {
     "end_time": "2025-04-25T01:13:13.737788Z",
     "start_time": "2025-04-25T01:13:13.732052Z"
    }
   },
   "cell_type": "code",
   "source": [
    "labels = np.array(['Down'] * 1250)\n",
    "labels[probs > 0.5] = 'Up'\n",
    "labels[:10]"
   ],
   "id": "ac1d73c90756c3df",
   "outputs": [
    {
     "data": {
      "text/plain": [
       "array(['Up', 'Down', 'Down', 'Up', 'Up', 'Up', 'Down', 'Up', 'Up', 'Down'],\n",
       "      dtype='<U4')"
      ]
     },
     "execution_count": 10,
     "metadata": {},
     "output_type": "execute_result"
    }
   ],
   "execution_count": 10
  },
  {
   "metadata": {
    "ExecuteTime": {
     "end_time": "2025-04-25T01:13:35.748381Z",
     "start_time": "2025-04-25T01:13:35.736951Z"
    }
   },
   "cell_type": "code",
   "source": "confusion_table(labels, Smarket.Direction)",
   "id": "fd8285414af46124",
   "outputs": [
    {
     "data": {
      "text/plain": [
       "Truth      Down   Up\n",
       "Predicted           \n",
       "Down        145  141\n",
       "Up          457  507"
      ],
      "text/html": [
       "<div>\n",
       "<style scoped>\n",
       "    .dataframe tbody tr th:only-of-type {\n",
       "        vertical-align: middle;\n",
       "    }\n",
       "\n",
       "    .dataframe tbody tr th {\n",
       "        vertical-align: top;\n",
       "    }\n",
       "\n",
       "    .dataframe thead th {\n",
       "        text-align: right;\n",
       "    }\n",
       "</style>\n",
       "<table border=\"1\" class=\"dataframe\">\n",
       "  <thead>\n",
       "    <tr style=\"text-align: right;\">\n",
       "      <th>Truth</th>\n",
       "      <th>Down</th>\n",
       "      <th>Up</th>\n",
       "    </tr>\n",
       "    <tr>\n",
       "      <th>Predicted</th>\n",
       "      <th></th>\n",
       "      <th></th>\n",
       "    </tr>\n",
       "  </thead>\n",
       "  <tbody>\n",
       "    <tr>\n",
       "      <th>Down</th>\n",
       "      <td>145</td>\n",
       "      <td>141</td>\n",
       "    </tr>\n",
       "    <tr>\n",
       "      <th>Up</th>\n",
       "      <td>457</td>\n",
       "      <td>507</td>\n",
       "    </tr>\n",
       "  </tbody>\n",
       "</table>\n",
       "</div>"
      ]
     },
     "execution_count": 11,
     "metadata": {},
     "output_type": "execute_result"
    }
   ],
   "execution_count": 11
  },
  {
   "metadata": {
    "ExecuteTime": {
     "end_time": "2025-04-25T01:14:52.050558Z",
     "start_time": "2025-04-25T01:14:52.045846Z"
    }
   },
   "cell_type": "code",
   "source": [
    "train = (Smarket.Year < 2005)\n",
    "Smarket_train = Smarket.loc[train]\n",
    "Smarket_test = Smarket.loc[~train]"
   ],
   "id": "ba9987a95c1d9d9c",
   "outputs": [],
   "execution_count": 12
  },
  {
   "metadata": {
    "ExecuteTime": {
     "end_time": "2025-04-25T01:17:13.096697Z",
     "start_time": "2025-04-25T01:17:13.088466Z"
    }
   },
   "cell_type": "code",
   "source": [
    "X_train, X_test = X.loc[train], X.loc[~train]\n",
    "y_train, y_test = y.loc[train], y.loc[~train]\n",
    "glm_train = sm.GLM(y_train,\n",
    "                   X_train,\n",
    "                   family = sm.families.Binomial())\n",
    "results = glm_train.fit()\n",
    "probs = results.predict(exog = X_test)"
   ],
   "id": "c094d683c7cfb32b",
   "outputs": [],
   "execution_count": 13
  },
  {
   "metadata": {
    "ExecuteTime": {
     "end_time": "2025-04-25T01:18:31.984914Z",
     "start_time": "2025-04-25T01:18:31.976494Z"
    }
   },
   "cell_type": "code",
   "source": [
    "D = Smarket.Direction\n",
    "L_train, L_test = D.loc[train], D.loc[~train]\n",
    "\n",
    "labels = np.array(['Down'] * 252)\n",
    "labels[probs > 0.5] = 'Up'\n",
    "confusion_table(labels, L_test)"
   ],
   "id": "c6e69da7ae496b73",
   "outputs": [
    {
     "data": {
      "text/plain": [
       "Truth      Down  Up\n",
       "Predicted          \n",
       "Down         77  97\n",
       "Up           34  44"
      ],
      "text/html": [
       "<div>\n",
       "<style scoped>\n",
       "    .dataframe tbody tr th:only-of-type {\n",
       "        vertical-align: middle;\n",
       "    }\n",
       "\n",
       "    .dataframe tbody tr th {\n",
       "        vertical-align: top;\n",
       "    }\n",
       "\n",
       "    .dataframe thead th {\n",
       "        text-align: right;\n",
       "    }\n",
       "</style>\n",
       "<table border=\"1\" class=\"dataframe\">\n",
       "  <thead>\n",
       "    <tr style=\"text-align: right;\">\n",
       "      <th>Truth</th>\n",
       "      <th>Down</th>\n",
       "      <th>Up</th>\n",
       "    </tr>\n",
       "    <tr>\n",
       "      <th>Predicted</th>\n",
       "      <th></th>\n",
       "      <th></th>\n",
       "    </tr>\n",
       "  </thead>\n",
       "  <tbody>\n",
       "    <tr>\n",
       "      <th>Down</th>\n",
       "      <td>77</td>\n",
       "      <td>97</td>\n",
       "    </tr>\n",
       "    <tr>\n",
       "      <th>Up</th>\n",
       "      <td>34</td>\n",
       "      <td>44</td>\n",
       "    </tr>\n",
       "  </tbody>\n",
       "</table>\n",
       "</div>"
      ]
     },
     "execution_count": 14,
     "metadata": {},
     "output_type": "execute_result"
    }
   ],
   "execution_count": 14
  },
  {
   "metadata": {
    "ExecuteTime": {
     "end_time": "2025-04-25T01:21:45.899759Z",
     "start_time": "2025-04-25T01:21:45.880004Z"
    }
   },
   "cell_type": "code",
   "source": [
    "model = MS(['Lag1', 'Lag2']).fit(Smarket)\n",
    "X = model.transform(Smarket)\n",
    "X_train, X_test = X.loc[train], X.loc[~train]\n",
    "\n",
    "glm_train = sm.GLM(y,\n",
    "                   X,\n",
    "                   family = sm.families.Binomial())\n",
    "results = glm_train.fit()\n",
    "\n",
    "probs = results.predict(exog = X_test)\n",
    "\n",
    "labels = np.array(['Down'] * 252)\n",
    "labels[probs > 0.5] = 'Up'\n",
    "confusion_table(labels, L_test)"
   ],
   "id": "49c9945481575cbe",
   "outputs": [
    {
     "data": {
      "text/plain": [
       "Truth      Down   Up\n",
       "Predicted           \n",
       "Down          9    9\n",
       "Up          102  132"
      ],
      "text/html": [
       "<div>\n",
       "<style scoped>\n",
       "    .dataframe tbody tr th:only-of-type {\n",
       "        vertical-align: middle;\n",
       "    }\n",
       "\n",
       "    .dataframe tbody tr th {\n",
       "        vertical-align: top;\n",
       "    }\n",
       "\n",
       "    .dataframe thead th {\n",
       "        text-align: right;\n",
       "    }\n",
       "</style>\n",
       "<table border=\"1\" class=\"dataframe\">\n",
       "  <thead>\n",
       "    <tr style=\"text-align: right;\">\n",
       "      <th>Truth</th>\n",
       "      <th>Down</th>\n",
       "      <th>Up</th>\n",
       "    </tr>\n",
       "    <tr>\n",
       "      <th>Predicted</th>\n",
       "      <th></th>\n",
       "      <th></th>\n",
       "    </tr>\n",
       "  </thead>\n",
       "  <tbody>\n",
       "    <tr>\n",
       "      <th>Down</th>\n",
       "      <td>9</td>\n",
       "      <td>9</td>\n",
       "    </tr>\n",
       "    <tr>\n",
       "      <th>Up</th>\n",
       "      <td>102</td>\n",
       "      <td>132</td>\n",
       "    </tr>\n",
       "  </tbody>\n",
       "</table>\n",
       "</div>"
      ]
     },
     "execution_count": 16,
     "metadata": {},
     "output_type": "execute_result"
    }
   ],
   "execution_count": 16
  },
  {
   "metadata": {
    "ExecuteTime": {
     "end_time": "2025-04-25T01:22:29.970035Z",
     "start_time": "2025-04-25T01:22:29.963882Z"
    }
   },
   "cell_type": "code",
   "source": "Smarket_train['Direction'].value_counts()",
   "id": "ddb71c7ec70d8e34",
   "outputs": [
    {
     "data": {
      "text/plain": [
       "Direction\n",
       "Up      507\n",
       "Down    491\n",
       "Name: count, dtype: int64"
      ]
     },
     "execution_count": 18,
     "metadata": {},
     "output_type": "execute_result"
    }
   ],
   "execution_count": 18
  },
  {
   "metadata": {
    "ExecuteTime": {
     "end_time": "2025-04-25T01:22:50.117656Z",
     "start_time": "2025-04-25T01:22:50.110999Z"
    }
   },
   "cell_type": "code",
   "source": "Smarket_test['Direction'].value_counts()",
   "id": "9ab8c593106fde69",
   "outputs": [
    {
     "data": {
      "text/plain": [
       "Direction\n",
       "Up      141\n",
       "Down    111\n",
       "Name: count, dtype: int64"
      ]
     },
     "execution_count": 19,
     "metadata": {},
     "output_type": "execute_result"
    }
   ],
   "execution_count": 19
  },
  {
   "metadata": {
    "ExecuteTime": {
     "end_time": "2025-04-25T01:25:41.562291Z",
     "start_time": "2025-04-25T01:25:41.544445Z"
    }
   },
   "cell_type": "code",
   "source": [
    "confusion_table(labels, L_test)\n",
    "model = MS(['Lag1', 'Volume']).fit(Smarket)\n",
    "X = model.transform(Smarket)\n",
    "X_train, X_test = X.loc[train], X.loc[~train]\n",
    "\n",
    "glm_train = sm.GLM(y,\n",
    "                   X,\n",
    "                   family=sm.families.Binomial())\n",
    "results = glm_train.fit()\n",
    "\n",
    "probs = results.predict(exog=X_test)\n",
    "\n",
    "labels = np.array(['Down'] * 252)\n",
    "labels[probs > 0.5] = 'Up'\n",
    "confusion_table(labels, L_test)"
   ],
   "id": "623eb975f979eb5d",
   "outputs": [
    {
     "data": {
      "text/plain": [
       "Truth      Down   Up\n",
       "Predicted           \n",
       "Down          2    0\n",
       "Up          109  141"
      ],
      "text/html": [
       "<div>\n",
       "<style scoped>\n",
       "    .dataframe tbody tr th:only-of-type {\n",
       "        vertical-align: middle;\n",
       "    }\n",
       "\n",
       "    .dataframe tbody tr th {\n",
       "        vertical-align: top;\n",
       "    }\n",
       "\n",
       "    .dataframe thead th {\n",
       "        text-align: right;\n",
       "    }\n",
       "</style>\n",
       "<table border=\"1\" class=\"dataframe\">\n",
       "  <thead>\n",
       "    <tr style=\"text-align: right;\">\n",
       "      <th>Truth</th>\n",
       "      <th>Down</th>\n",
       "      <th>Up</th>\n",
       "    </tr>\n",
       "    <tr>\n",
       "      <th>Predicted</th>\n",
       "      <th></th>\n",
       "      <th></th>\n",
       "    </tr>\n",
       "  </thead>\n",
       "  <tbody>\n",
       "    <tr>\n",
       "      <th>Down</th>\n",
       "      <td>2</td>\n",
       "      <td>0</td>\n",
       "    </tr>\n",
       "    <tr>\n",
       "      <th>Up</th>\n",
       "      <td>109</td>\n",
       "      <td>141</td>\n",
       "    </tr>\n",
       "  </tbody>\n",
       "</table>\n",
       "</div>"
      ]
     },
     "execution_count": 23,
     "metadata": {},
     "output_type": "execute_result"
    }
   ],
   "execution_count": 23
  },
  {
   "metadata": {},
   "cell_type": "markdown",
   "source": [
    "# Question 2\n",
    "Would a model containing Lag1 and Volume perform better? (The p-value for Volume was roughly the same as the p-value for Lag2) Explain your answer. Make sure to estimate the test error!\n",
    "\n"
   ],
   "id": "a83c71a71a52e994"
  },
  {
   "metadata": {
    "ExecuteTime": {
     "end_time": "2025-04-25T01:32:01.098052Z",
     "start_time": "2025-04-25T01:32:01.088681Z"
    }
   },
   "cell_type": "code",
   "source": [
    "HSprog = pd.read_csv('/Users/Camer/Downloads/Spring 2025 Classes/Stat 411/Labs/Datasets/HSprogram')\n",
    "HSprog.head()"
   ],
   "id": "bdcdfedfbfe29d74",
   "outputs": [
    {
     "data": {
      "text/plain": [
       "    id female     ses  schtyp        prog  read  write  math  science  socst  \\\n",
       "0   45    yes     low  public  vocational    34     35    41       29     26   \n",
       "1  108     no  middle  public     general    34     33    41       36     36   \n",
       "2   15     no    high  public  vocational    39     39    44       26     42   \n",
       "3   67     no     low  public  vocational    37     37    42       33     32   \n",
       "4  153     no  middle  public  vocational    39     31    40       39     51   \n",
       "\n",
       "  honors  awards  cid  \n",
       "0     no       0    1  \n",
       "1     no       0    1  \n",
       "2     no       0    1  \n",
       "3     no       0    1  \n",
       "4     no       0    1  "
      ],
      "text/html": [
       "<div>\n",
       "<style scoped>\n",
       "    .dataframe tbody tr th:only-of-type {\n",
       "        vertical-align: middle;\n",
       "    }\n",
       "\n",
       "    .dataframe tbody tr th {\n",
       "        vertical-align: top;\n",
       "    }\n",
       "\n",
       "    .dataframe thead th {\n",
       "        text-align: right;\n",
       "    }\n",
       "</style>\n",
       "<table border=\"1\" class=\"dataframe\">\n",
       "  <thead>\n",
       "    <tr style=\"text-align: right;\">\n",
       "      <th></th>\n",
       "      <th>id</th>\n",
       "      <th>female</th>\n",
       "      <th>ses</th>\n",
       "      <th>schtyp</th>\n",
       "      <th>prog</th>\n",
       "      <th>read</th>\n",
       "      <th>write</th>\n",
       "      <th>math</th>\n",
       "      <th>science</th>\n",
       "      <th>socst</th>\n",
       "      <th>honors</th>\n",
       "      <th>awards</th>\n",
       "      <th>cid</th>\n",
       "    </tr>\n",
       "  </thead>\n",
       "  <tbody>\n",
       "    <tr>\n",
       "      <th>0</th>\n",
       "      <td>45</td>\n",
       "      <td>yes</td>\n",
       "      <td>low</td>\n",
       "      <td>public</td>\n",
       "      <td>vocational</td>\n",
       "      <td>34</td>\n",
       "      <td>35</td>\n",
       "      <td>41</td>\n",
       "      <td>29</td>\n",
       "      <td>26</td>\n",
       "      <td>no</td>\n",
       "      <td>0</td>\n",
       "      <td>1</td>\n",
       "    </tr>\n",
       "    <tr>\n",
       "      <th>1</th>\n",
       "      <td>108</td>\n",
       "      <td>no</td>\n",
       "      <td>middle</td>\n",
       "      <td>public</td>\n",
       "      <td>general</td>\n",
       "      <td>34</td>\n",
       "      <td>33</td>\n",
       "      <td>41</td>\n",
       "      <td>36</td>\n",
       "      <td>36</td>\n",
       "      <td>no</td>\n",
       "      <td>0</td>\n",
       "      <td>1</td>\n",
       "    </tr>\n",
       "    <tr>\n",
       "      <th>2</th>\n",
       "      <td>15</td>\n",
       "      <td>no</td>\n",
       "      <td>high</td>\n",
       "      <td>public</td>\n",
       "      <td>vocational</td>\n",
       "      <td>39</td>\n",
       "      <td>39</td>\n",
       "      <td>44</td>\n",
       "      <td>26</td>\n",
       "      <td>42</td>\n",
       "      <td>no</td>\n",
       "      <td>0</td>\n",
       "      <td>1</td>\n",
       "    </tr>\n",
       "    <tr>\n",
       "      <th>3</th>\n",
       "      <td>67</td>\n",
       "      <td>no</td>\n",
       "      <td>low</td>\n",
       "      <td>public</td>\n",
       "      <td>vocational</td>\n",
       "      <td>37</td>\n",
       "      <td>37</td>\n",
       "      <td>42</td>\n",
       "      <td>33</td>\n",
       "      <td>32</td>\n",
       "      <td>no</td>\n",
       "      <td>0</td>\n",
       "      <td>1</td>\n",
       "    </tr>\n",
       "    <tr>\n",
       "      <th>4</th>\n",
       "      <td>153</td>\n",
       "      <td>no</td>\n",
       "      <td>middle</td>\n",
       "      <td>public</td>\n",
       "      <td>vocational</td>\n",
       "      <td>39</td>\n",
       "      <td>31</td>\n",
       "      <td>40</td>\n",
       "      <td>39</td>\n",
       "      <td>51</td>\n",
       "      <td>no</td>\n",
       "      <td>0</td>\n",
       "      <td>1</td>\n",
       "    </tr>\n",
       "  </tbody>\n",
       "</table>\n",
       "</div>"
      ]
     },
     "execution_count": 29,
     "metadata": {},
     "output_type": "execute_result"
    }
   ],
   "execution_count": 29
  },
  {
   "metadata": {
    "ExecuteTime": {
     "end_time": "2025-04-25T01:34:15.501996Z",
     "start_time": "2025-04-25T01:34:15.457124Z"
    }
   },
   "cell_type": "code",
   "source": [
    "X = HSprog[['math', 'read', 'write', 'science']]\n",
    "y = HSprog['prog']\n",
    "\n",
    "model = LogisticRegression(multi_class = 'multinomial', solver = 'lbfgs', max_iter = 200)\n",
    "model.fit(X, y)\n",
    "\n",
    "print(model.coef_)\n",
    "print(model.intercept_)"
   ],
   "id": "395d0533b1a68ae3",
   "outputs": [
    {
     "name": "stdout",
     "output_type": "stream",
     "text": [
      "[[ 0.07438691  0.03826512  0.0310085  -0.04971534]\n",
      " [-0.02531668 -0.01810952 -0.0014197   0.0407125 ]\n",
      " [-0.04907023 -0.02015559 -0.0295888   0.00900285]]\n",
      "[-4.36428265  0.02881579  4.33546686]\n"
     ]
    },
    {
     "name": "stderr",
     "output_type": "stream",
     "text": [
      "C:\\Users\\Camer\\AppData\\Local\\JetBrains\\PyCharm2024.3\\demo\\PyCharmLearningProject2\\.venv\\Lib\\site-packages\\sklearn\\linear_model\\_logistic.py:1247: FutureWarning: 'multi_class' was deprecated in version 1.5 and will be removed in 1.7. From then on, it will always use 'multinomial'. Leave it to its default value to avoid this warning.\n",
      "  warnings.warn(\n"
     ]
    }
   ],
   "execution_count": 30
  },
  {
   "metadata": {},
   "cell_type": "markdown",
   "source": [
    "# Question 3\n",
    "The second model (comparing vocational to academic program), our Math variable has a coefficient estimate of -0.124.  Provide two interpretations:\n",
    "\n"
   ],
   "id": "c0ff34691fd48f79"
  },
  {
   "metadata": {
    "ExecuteTime": {
     "end_time": "2025-04-25T01:38:29.761027Z",
     "start_time": "2025-04-25T01:38:29.752037Z"
    }
   },
   "cell_type": "code",
   "source": [
    "y_pred = model.predict_proba(X)\n",
    "y_pred"
   ],
   "id": "ce60962214f46ee",
   "outputs": [
    {
     "data": {
      "text/plain": [
       "array([[0.18807693, 0.1661324 , 0.64579067],\n",
       "       [0.11598922, 0.20587774, 0.67813305],\n",
       "       [0.40068438, 0.13257224, 0.46674338],\n",
       "       [0.20999429, 0.19076489, 0.59924081],\n",
       "       [0.1028809 , 0.21300754, 0.68411157],\n",
       "       [0.27748544, 0.16392831, 0.55858625],\n",
       "       [0.15984277, 0.24288322, 0.59727401],\n",
       "       [0.23170081, 0.16417654, 0.60412265],\n",
       "       [0.06573379, 0.25938028, 0.67488593],\n",
       "       [0.19254173, 0.23916433, 0.56829394],\n",
       "       [0.1459601 , 0.26280055, 0.59123934],\n",
       "       [0.05572801, 0.27211151, 0.67216048],\n",
       "       [0.26266729, 0.1772478 , 0.56008491],\n",
       "       [0.0993009 , 0.28255176, 0.61814734],\n",
       "       [0.04743818, 0.31993017, 0.63263165],\n",
       "       [0.27583164, 0.19867509, 0.52549327],\n",
       "       [0.11797769, 0.32537472, 0.55664759],\n",
       "       [0.22655936, 0.22663465, 0.54680598],\n",
       "       [0.25248856, 0.25879951, 0.48871193],\n",
       "       [0.1378224 , 0.3057825 , 0.55639511],\n",
       "       [0.17695305, 0.25645849, 0.56658846],\n",
       "       [0.26615482, 0.24579514, 0.48805004],\n",
       "       [0.23016631, 0.25339693, 0.51643677],\n",
       "       [0.22140436, 0.24832399, 0.53027165],\n",
       "       [0.22515907, 0.23773798, 0.53710296],\n",
       "       [0.38806917, 0.19690794, 0.41502289],\n",
       "       [0.45204591, 0.18409147, 0.36386263],\n",
       "       [0.37877918, 0.21337424, 0.40784658],\n",
       "       [0.36721132, 0.21073897, 0.42204972],\n",
       "       [0.3173494 , 0.24226842, 0.44038217],\n",
       "       [0.27059491, 0.2515624 , 0.47784269],\n",
       "       [0.33855332, 0.22483636, 0.43661032],\n",
       "       [0.21604959, 0.27147469, 0.51247572],\n",
       "       [0.63261684, 0.121547  , 0.24583616],\n",
       "       [0.10844846, 0.33115336, 0.56039818],\n",
       "       [0.05410448, 0.37506523, 0.57083028],\n",
       "       [0.32932622, 0.22022151, 0.45045227],\n",
       "       [0.4949398 , 0.19246347, 0.31259673],\n",
       "       [0.13254556, 0.33591949, 0.53153495],\n",
       "       [0.27795177, 0.25902764, 0.46302059],\n",
       "       [0.36282048, 0.24008705, 0.39709247],\n",
       "       [0.60337177, 0.13230879, 0.26431945],\n",
       "       [0.55954127, 0.16196732, 0.27849141],\n",
       "       [0.13521827, 0.30694023, 0.5578415 ],\n",
       "       [0.38950772, 0.25133049, 0.3591618 ],\n",
       "       [0.2903426 , 0.28583779, 0.42381961],\n",
       "       [0.169909  , 0.31379024, 0.51630076],\n",
       "       [0.16069403, 0.3594357 , 0.47987027],\n",
       "       [0.56645377, 0.1580641 , 0.27548213],\n",
       "       [0.49659977, 0.19486956, 0.30853067],\n",
       "       [0.31756554, 0.24411954, 0.43831492],\n",
       "       [0.25871129, 0.2469859 , 0.49430281],\n",
       "       [0.25749225, 0.29901883, 0.44348892],\n",
       "       [0.77521334, 0.08815125, 0.13663541],\n",
       "       [0.31160056, 0.28704548, 0.40135396],\n",
       "       [0.18433614, 0.36042374, 0.45524012],\n",
       "       [0.55830699, 0.17291821, 0.2687748 ],\n",
       "       [0.17299504, 0.40436106, 0.4226439 ],\n",
       "       [0.69318208, 0.12929799, 0.17751994],\n",
       "       [0.1850569 , 0.3738924 , 0.4410507 ],\n",
       "       [0.35918319, 0.3055499 , 0.3352669 ],\n",
       "       [0.16821854, 0.36117847, 0.47060298],\n",
       "       [0.28702653, 0.32056359, 0.39240988],\n",
       "       [0.19997844, 0.38453681, 0.41548475],\n",
       "       [0.57706309, 0.19062801, 0.23230891],\n",
       "       [0.45444778, 0.25134486, 0.29420735],\n",
       "       [0.29206635, 0.36092409, 0.34700956],\n",
       "       [0.55032369, 0.19568206, 0.25399425],\n",
       "       [0.74019217, 0.11413769, 0.14567015],\n",
       "       [0.43992924, 0.29880913, 0.26126163],\n",
       "       [0.3852107 , 0.31869795, 0.29609135],\n",
       "       [0.54571908, 0.219256  , 0.23502492],\n",
       "       [0.35147218, 0.29946098, 0.34906684],\n",
       "       [0.38039613, 0.26960343, 0.35000044],\n",
       "       [0.50177139, 0.25990761, 0.238321  ],\n",
       "       [0.34838143, 0.32398346, 0.32763511],\n",
       "       [0.66258321, 0.16482303, 0.17259376],\n",
       "       [0.36645635, 0.30704871, 0.32649494],\n",
       "       [0.60104695, 0.20518658, 0.19376647],\n",
       "       [0.1773772 , 0.41120877, 0.41141403],\n",
       "       [0.19243887, 0.4765214 , 0.33103973],\n",
       "       [0.39539887, 0.34102012, 0.263581  ],\n",
       "       [0.45968836, 0.2770732 , 0.26323844],\n",
       "       [0.30095421, 0.34028719, 0.3587586 ],\n",
       "       [0.65768724, 0.17085611, 0.17145665],\n",
       "       [0.43319405, 0.2877927 , 0.27901324],\n",
       "       [0.37328941, 0.3376201 , 0.28909049],\n",
       "       [0.53458093, 0.22561899, 0.23980009],\n",
       "       [0.29033946, 0.37890224, 0.33075829],\n",
       "       [0.23466283, 0.38368568, 0.3816515 ],\n",
       "       [0.22119979, 0.42213267, 0.35666753],\n",
       "       [0.44031871, 0.32871752, 0.23096377],\n",
       "       [0.42860571, 0.26554908, 0.30584521],\n",
       "       [0.53331571, 0.23606047, 0.23062382],\n",
       "       [0.26482332, 0.4151189 , 0.32005778],\n",
       "       [0.79109095, 0.10627447, 0.10263458],\n",
       "       [0.56809891, 0.24692645, 0.18497464],\n",
       "       [0.46320931, 0.30354204, 0.23324865],\n",
       "       [0.52051419, 0.24021458, 0.23927124],\n",
       "       [0.54913833, 0.23251737, 0.21834431],\n",
       "       [0.20935323, 0.48417274, 0.30647403],\n",
       "       [0.16271769, 0.45189463, 0.38538768],\n",
       "       [0.46198646, 0.30233199, 0.23568154],\n",
       "       [0.1222523 , 0.560929  , 0.3168187 ],\n",
       "       [0.0860454 , 0.48589926, 0.42805534],\n",
       "       [0.76709353, 0.11874039, 0.11416608],\n",
       "       [0.63756766, 0.19120962, 0.17122272],\n",
       "       [0.60576395, 0.22723005, 0.16700599],\n",
       "       [0.43261699, 0.33227572, 0.23510729],\n",
       "       [0.65921186, 0.18568346, 0.15510469],\n",
       "       [0.5683921 , 0.26617095, 0.16543695],\n",
       "       [0.83422835, 0.09208621, 0.07368544],\n",
       "       [0.93430775, 0.03655101, 0.02914124],\n",
       "       [0.62095169, 0.22864586, 0.15040245],\n",
       "       [0.46553906, 0.34180606, 0.19265488],\n",
       "       [0.52536448, 0.30517501, 0.1694605 ],\n",
       "       [0.75206731, 0.14608217, 0.10185052],\n",
       "       [0.74816056, 0.13567274, 0.11616671],\n",
       "       [0.74243173, 0.15047686, 0.1070914 ],\n",
       "       [0.69312032, 0.17718448, 0.1296952 ],\n",
       "       [0.6322748 , 0.2194597 , 0.1482655 ],\n",
       "       [0.7261589 , 0.17174136, 0.10209974],\n",
       "       [0.80196531, 0.1292695 , 0.06876518],\n",
       "       [0.31539235, 0.46001471, 0.22459294],\n",
       "       [0.77398811, 0.14739743, 0.07861446],\n",
       "       [0.37225133, 0.40296167, 0.224787  ],\n",
       "       [0.4224626 , 0.3795596 , 0.1979778 ],\n",
       "       [0.45053183, 0.36161863, 0.18784954],\n",
       "       [0.78823933, 0.13324062, 0.07852005],\n",
       "       [0.61068575, 0.24965555, 0.1396587 ],\n",
       "       [0.61480438, 0.22988792, 0.15530771],\n",
       "       [0.60201779, 0.25416353, 0.14381868],\n",
       "       [0.3047214 , 0.42609995, 0.26917865],\n",
       "       [0.89603972, 0.05974252, 0.04421777],\n",
       "       [0.92007006, 0.05168617, 0.02824377],\n",
       "       [0.3627041 , 0.44973135, 0.18756454],\n",
       "       [0.78203324, 0.13600756, 0.0819592 ],\n",
       "       [0.72960672, 0.17925755, 0.09113573],\n",
       "       [0.52050625, 0.29802681, 0.18146694],\n",
       "       [0.69519192, 0.19358019, 0.11122788],\n",
       "       [0.59727488, 0.25716679, 0.14555833],\n",
       "       [0.75783552, 0.16525029, 0.07691419],\n",
       "       [0.73030939, 0.17900331, 0.0906873 ],\n",
       "       [0.6660789 , 0.21173127, 0.12218983],\n",
       "       [0.75435421, 0.16825023, 0.07739556],\n",
       "       [0.70584893, 0.2010096 , 0.09314147],\n",
       "       [0.68453623, 0.21258692, 0.10287685],\n",
       "       [0.76907388, 0.16088904, 0.07003708],\n",
       "       [0.68972494, 0.19844243, 0.11183263],\n",
       "       [0.79208077, 0.13339603, 0.0745232 ],\n",
       "       [0.76497523, 0.16113865, 0.07388612],\n",
       "       [0.79518186, 0.13424263, 0.07057551],\n",
       "       [0.49004751, 0.3572673 , 0.15268519],\n",
       "       [0.88461043, 0.07168009, 0.04370949],\n",
       "       [0.62360169, 0.2743391 , 0.10205921],\n",
       "       [0.85402891, 0.10062148, 0.04534961],\n",
       "       [0.80759573, 0.12578594, 0.06661833],\n",
       "       [0.94094676, 0.03997322, 0.01908001],\n",
       "       [0.49532354, 0.34725382, 0.15742265],\n",
       "       [0.46004595, 0.41234913, 0.12760492],\n",
       "       [0.59730107, 0.2974358 , 0.10526313],\n",
       "       [0.52381136, 0.32807005, 0.14811859],\n",
       "       [0.91059454, 0.06108535, 0.02832011],\n",
       "       [0.77253557, 0.16101703, 0.0664474 ],\n",
       "       [0.88641793, 0.07557761, 0.03800446],\n",
       "       [0.63516985, 0.24787272, 0.11695744],\n",
       "       [0.73875273, 0.1888665 , 0.07238077],\n",
       "       [0.75162465, 0.18495382, 0.06342153],\n",
       "       [0.93129688, 0.04853007, 0.02017306],\n",
       "       [0.7059652 , 0.20427725, 0.08975755],\n",
       "       [0.59581262, 0.30715441, 0.09703297],\n",
       "       [0.88005698, 0.07904703, 0.04089599],\n",
       "       [0.94916892, 0.03778616, 0.01304492],\n",
       "       [0.72684689, 0.21663058, 0.05652254],\n",
       "       [0.91754062, 0.05828796, 0.02417142],\n",
       "       [0.83998139, 0.11416036, 0.04585825],\n",
       "       [0.91878443, 0.05863396, 0.02258161],\n",
       "       [0.90083253, 0.07282202, 0.02634545],\n",
       "       [0.90293891, 0.07461118, 0.0224499 ],\n",
       "       [0.86049219, 0.09812245, 0.04138536],\n",
       "       [0.90843442, 0.06988094, 0.02168464],\n",
       "       [0.89947813, 0.07632501, 0.02419686],\n",
       "       [0.89757692, 0.0779661 , 0.02445698],\n",
       "       [0.54631662, 0.35016691, 0.10351647],\n",
       "       [0.92619024, 0.05456171, 0.01924806],\n",
       "       [0.91762677, 0.06390716, 0.01846607],\n",
       "       [0.780973  , 0.16951864, 0.04950836],\n",
       "       [0.82004628, 0.14150423, 0.03844948],\n",
       "       [0.86392499, 0.10649286, 0.02958215],\n",
       "       [0.92013285, 0.06177425, 0.0180929 ],\n",
       "       [0.95591076, 0.03346827, 0.01062098],\n",
       "       [0.81052982, 0.14923921, 0.04023098],\n",
       "       [0.90182599, 0.07671241, 0.0214616 ],\n",
       "       [0.95057424, 0.03757232, 0.01185344],\n",
       "       [0.83038603, 0.12954003, 0.04007394],\n",
       "       [0.87094675, 0.10603934, 0.02301391],\n",
       "       [0.88023075, 0.10065905, 0.01911021],\n",
       "       [0.95518347, 0.03605202, 0.00876451],\n",
       "       [0.93827224, 0.05021357, 0.0115142 ],\n",
       "       [0.92905448, 0.05812104, 0.01282448]])"
      ]
     },
     "execution_count": 31,
     "metadata": {},
     "output_type": "execute_result"
    }
   ],
   "execution_count": 31
  },
  {
   "metadata": {
    "ExecuteTime": {
     "end_time": "2025-04-25T01:38:48.035205Z",
     "start_time": "2025-04-25T01:38:48.030247Z"
    }
   },
   "cell_type": "code",
   "source": [
    "y_pred = model.predict(X)\n",
    "y_pred"
   ],
   "id": "16b50f5bd3ed64a4",
   "outputs": [
    {
     "data": {
      "text/plain": [
       "array(['vocational', 'vocational', 'vocational', 'vocational',\n",
       "       'vocational', 'vocational', 'vocational', 'vocational',\n",
       "       'vocational', 'vocational', 'vocational', 'vocational',\n",
       "       'vocational', 'vocational', 'vocational', 'vocational',\n",
       "       'vocational', 'vocational', 'vocational', 'vocational',\n",
       "       'vocational', 'vocational', 'vocational', 'vocational',\n",
       "       'vocational', 'vocational', 'academic', 'vocational', 'vocational',\n",
       "       'vocational', 'vocational', 'vocational', 'vocational', 'academic',\n",
       "       'vocational', 'vocational', 'vocational', 'academic', 'vocational',\n",
       "       'vocational', 'vocational', 'academic', 'academic', 'vocational',\n",
       "       'academic', 'vocational', 'vocational', 'vocational', 'academic',\n",
       "       'academic', 'vocational', 'vocational', 'vocational', 'academic',\n",
       "       'vocational', 'vocational', 'academic', 'vocational', 'academic',\n",
       "       'vocational', 'academic', 'vocational', 'vocational', 'vocational',\n",
       "       'academic', 'academic', 'general', 'academic', 'academic',\n",
       "       'academic', 'academic', 'academic', 'academic', 'academic',\n",
       "       'academic', 'academic', 'academic', 'academic', 'academic',\n",
       "       'vocational', 'general', 'academic', 'academic', 'vocational',\n",
       "       'academic', 'academic', 'academic', 'academic', 'general',\n",
       "       'general', 'general', 'academic', 'academic', 'academic',\n",
       "       'general', 'academic', 'academic', 'academic', 'academic',\n",
       "       'academic', 'general', 'general', 'academic', 'general', 'general',\n",
       "       'academic', 'academic', 'academic', 'academic', 'academic',\n",
       "       'academic', 'academic', 'academic', 'academic', 'academic',\n",
       "       'academic', 'academic', 'academic', 'academic', 'academic',\n",
       "       'academic', 'academic', 'academic', 'general', 'academic',\n",
       "       'general', 'academic', 'academic', 'academic', 'academic',\n",
       "       'academic', 'academic', 'general', 'academic', 'academic',\n",
       "       'general', 'academic', 'academic', 'academic', 'academic',\n",
       "       'academic', 'academic', 'academic', 'academic', 'academic',\n",
       "       'academic', 'academic', 'academic', 'academic', 'academic',\n",
       "       'academic', 'academic', 'academic', 'academic', 'academic',\n",
       "       'academic', 'academic', 'academic', 'academic', 'academic',\n",
       "       'academic', 'academic', 'academic', 'academic', 'academic',\n",
       "       'academic', 'academic', 'academic', 'academic', 'academic',\n",
       "       'academic', 'academic', 'academic', 'academic', 'academic',\n",
       "       'academic', 'academic', 'academic', 'academic', 'academic',\n",
       "       'academic', 'academic', 'academic', 'academic', 'academic',\n",
       "       'academic', 'academic', 'academic', 'academic', 'academic',\n",
       "       'academic', 'academic', 'academic', 'academic', 'academic',\n",
       "       'academic', 'academic', 'academic', 'academic', 'academic'],\n",
       "      dtype=object)"
      ]
     },
     "execution_count": 32,
     "metadata": {},
     "output_type": "execute_result"
    }
   ],
   "execution_count": 32
  },
  {
   "metadata": {
    "ExecuteTime": {
     "end_time": "2025-04-25T01:39:17.708323Z",
     "start_time": "2025-04-25T01:39:17.702242Z"
    }
   },
   "cell_type": "code",
   "source": "confusion_table(y, y_pred)",
   "id": "15b7efd775918af1",
   "outputs": [
    {
     "data": {
      "text/plain": [
       "Truth       academic  general  vocational\n",
       "Predicted                                \n",
       "academic          89        3          13\n",
       "general           25        5          15\n",
       "vocational        18        6          26"
      ],
      "text/html": [
       "<div>\n",
       "<style scoped>\n",
       "    .dataframe tbody tr th:only-of-type {\n",
       "        vertical-align: middle;\n",
       "    }\n",
       "\n",
       "    .dataframe tbody tr th {\n",
       "        vertical-align: top;\n",
       "    }\n",
       "\n",
       "    .dataframe thead th {\n",
       "        text-align: right;\n",
       "    }\n",
       "</style>\n",
       "<table border=\"1\" class=\"dataframe\">\n",
       "  <thead>\n",
       "    <tr style=\"text-align: right;\">\n",
       "      <th>Truth</th>\n",
       "      <th>academic</th>\n",
       "      <th>general</th>\n",
       "      <th>vocational</th>\n",
       "    </tr>\n",
       "    <tr>\n",
       "      <th>Predicted</th>\n",
       "      <th></th>\n",
       "      <th></th>\n",
       "      <th></th>\n",
       "    </tr>\n",
       "  </thead>\n",
       "  <tbody>\n",
       "    <tr>\n",
       "      <th>academic</th>\n",
       "      <td>89</td>\n",
       "      <td>3</td>\n",
       "      <td>13</td>\n",
       "    </tr>\n",
       "    <tr>\n",
       "      <th>general</th>\n",
       "      <td>25</td>\n",
       "      <td>5</td>\n",
       "      <td>15</td>\n",
       "    </tr>\n",
       "    <tr>\n",
       "      <th>vocational</th>\n",
       "      <td>18</td>\n",
       "      <td>6</td>\n",
       "      <td>26</td>\n",
       "    </tr>\n",
       "  </tbody>\n",
       "</table>\n",
       "</div>"
      ]
     },
     "execution_count": 33,
     "metadata": {},
     "output_type": "execute_result"
    }
   ],
   "execution_count": 33
  },
  {
   "metadata": {},
   "cell_type": "markdown",
   "source": "Now lets use cross-validation to estimate the test error. We'll randomly select 150 students to be in the training set.  Train our model using this data.  Then test the model on the 50 students that were held out.",
   "id": "f8017318cf8fb70e"
  },
  {
   "metadata": {},
   "cell_type": "code",
   "outputs": [],
   "source": "",
   "id": "4c5a2fd9f3b5bad1",
   "execution_count": null
  }
 ],
 "metadata": {
  "kernelspec": {
   "display_name": "Python 3",
   "language": "python",
   "name": "python3"
  },
  "language_info": {
   "codemirror_mode": {
    "name": "ipython",
    "version": 2
   },
   "file_extension": ".py",
   "mimetype": "text/x-python",
   "name": "python",
   "nbconvert_exporter": "python",
   "pygments_lexer": "ipython2",
   "version": "2.7.6"
  }
 },
 "nbformat": 4,
 "nbformat_minor": 5
}
