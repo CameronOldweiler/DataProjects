{
 "cells": [
  {
   "cell_type": "code",
   "id": "initial_id",
   "metadata": {
    "collapsed": true,
    "ExecuteTime": {
     "end_time": "2025-03-25T23:32:59.288083Z",
     "start_time": "2025-03-25T23:32:59.282937Z"
    }
   },
   "source": [
    "import numpy as np\n",
    "import matplotlib.pyplot as plt\n",
    "import statsmodels.api as sm\n",
    "import pandas as pd\n",
    "from ISLP.models import (ModelSpec as MS,\n",
    "                         summarize)\n",
    "from sklearn.model_selection import train_test_split\n",
    "from sklearn.linear_model import LinearRegression\n",
    "from sklearn.model_selection import cross_val_score\n",
    "from sklearn.model_selection import LeaveOneOut\n",
    "from sklearn.neighbors import KNeighborsClassifier"
   ],
   "outputs": [],
   "execution_count": 10
  },
  {
   "metadata": {
    "ExecuteTime": {
     "end_time": "2025-03-26T00:07:46.763655Z",
     "start_time": "2025-03-26T00:07:46.757819Z"
    }
   },
   "cell_type": "code",
   "source": [
    "# Creating a simulated dataset\n",
    "rng = np.random.default_rng(1)\n",
    "x = rng.normal(size = 100)\n",
    "y = x - 2 * x ** 2 + rng.normal(size = 100)"
   ],
   "id": "bdf9759f63786aa3",
   "outputs": [],
   "execution_count": 36
  },
  {
   "metadata": {},
   "cell_type": "markdown",
   "source": [
    "Part A : In this dataset, what is n and what is p?  Write out the model used to generate the data in equation form.\n",
    "\n",
    "In this dataset n is 100 (the number of observations), and p is 2 (the variables x and x^2 are both used as predictors)\n",
    "\n",
    "Y = x - 2x^2 + error term"
   ],
   "id": "8afce8144dad7e89"
  },
  {
   "metadata": {
    "ExecuteTime": {
     "end_time": "2025-03-26T00:07:48.935865Z",
     "start_time": "2025-03-26T00:07:48.706212Z"
    }
   },
   "cell_type": "code",
   "source": [
    "# Creating a scatterplot\n",
    "plt.scatter(x, y)\n",
    "plt.xlabel('x')\n",
    "plt.ylabel('y')\n",
    "plt.title('Scatterplot of y v.s. x')\n",
    "plt.grid(True)\n",
    "plt.show"
   ],
   "id": "61c47168028c3659",
   "outputs": [
    {
     "data": {
      "text/plain": [
       "<function matplotlib.pyplot.show(close=None, block=None)>"
      ]
     },
     "execution_count": 37,
     "metadata": {},
     "output_type": "execute_result"
    },
    {
     "data": {
      "text/plain": [
       "<Figure size 640x480 with 1 Axes>"
      ],
      "image/png": "[encoded data removed]"
     },
     "metadata": {},
     "output_type": "display_data"
    }
   ],
   "execution_count": 37
  },
  {
   "metadata": {},
   "cell_type": "markdown",
   "source": [
    "Part B : Create a scatterplot of x v.s. y.  Comment on what you find.\n",
    "\n",
    "The data has a fairly normal bell shaped distribution.  The y-values tend to increase as x increases up to around 0, after that as x increases y tends to decrease."
   ],
   "id": "c8de72407e35deac"
  },
  {
   "metadata": {
    "ExecuteTime": {
     "end_time": "2025-03-26T00:07:51.722231Z",
     "start_time": "2025-03-26T00:07:51.218883Z"
    }
   },
   "cell_type": "code",
   "source": [
    "# Creates a DataFrame\n",
    "df = pd.DataFrame({'x': x, 'y': y})\n",
    "df['x2'] = df['x'] ** 2\n",
    "df['x3'] = df['x'] ** 3\n",
    "df['x4'] = df['x'] ** 4\n",
    "\n",
    "# Define the models: list of tuples\n",
    "models = [\n",
    "    ('linear', ['x']),\n",
    "    ('quadratic', ['x', 'x2']),\n",
    "    ('cubic', ['x', 'x2', 'x3']),\n",
    "    ('quartic', ['x', 'x2', 'x3', 'x4'])\n",
    "]\n",
    "\n",
    "# Initialize Leave-One-Out Cross Validator\n",
    "loo = LeaveOneOut()\n",
    "\n",
    "# Dictionary to hold LOOCV errors for each model\n",
    "loocv_errors = {}\n",
    "\n",
    "# Compute LOOCV error for each model using cross_val_score\n",
    "for name, features in models:\n",
    "    X = df[features].values\n",
    "    y_vals = df['y'].values\n",
    "\n",
    "    # cross_val_score uses negative MSE, so we negate the result to get positive MSE values\n",
    "    neg_mse_scores = cross_val_score(LinearRegression(), X, y_vals,\n",
    "                                     scoring = 'neg_mean_squared_error', cv = loo)\n",
    "    loocv_error = -np.mean(neg_mse_scores)\n",
    "    loocv_errors[name] = loocv_error\n",
    "    print(f\"LOOCV Error for {name} model: {loocv_error:.4f}\")"
   ],
   "id": "732cd4787ae0b943",
   "outputs": [
    {
     "name": "stdout",
     "output_type": "stream",
     "text": [
      "LOOCV Error for linear model: 6.6330\n",
      "LOOCV Error for quadratic model: 1.1229\n",
      "LOOCV Error for cubic model: 1.3018\n",
      "LOOCV Error for quartic model: 1.3324\n"
     ]
    }
   ],
   "execution_count": 38
  },
  {
   "metadata": {},
   "cell_type": "markdown",
   "source": [
    "Part C :  Set a random seed, and then compute the LOOCV errors that result from fitting the following four models using ordinary least squares:\n",
    "\n",
    "Our test MSE decreased significantly once we added in at least a quadratic predictor which could indicate that our true relationship might not be best represented linearly."
   ],
   "id": "eb43a1ef06503dcc"
  },
  {
   "metadata": {
    "ExecuteTime": {
     "end_time": "2025-03-26T00:08:47.567277Z",
     "start_time": "2025-03-26T00:08:47.560448Z"
    }
   },
   "cell_type": "code",
   "source": [
    "# Creating a new simulated dataset\n",
    "new_rng = np.random.default_rng(174201)\n",
    "x = new_rng.normal(size = 100)\n",
    "y = x - 2 * x ** 2 + new_rng.normal(size = 100)"
   ],
   "id": "ddd78340dae31086",
   "outputs": [],
   "execution_count": 39
  },
  {
   "metadata": {
    "ExecuteTime": {
     "end_time": "2025-03-26T00:08:49.127312Z",
     "start_time": "2025-03-26T00:08:48.943249Z"
    }
   },
   "cell_type": "code",
   "source": [
    "# Creating a scatterplot\n",
    "plt.scatter(x, y)\n",
    "plt.xlabel('x')\n",
    "plt.ylabel('y')\n",
    "plt.title('Scatterplot of y v.s. x')\n",
    "plt.grid(True)\n",
    "plt.show"
   ],
   "id": "7cb67840184aff83",
   "outputs": [
    {
     "data": {
      "text/plain": [
       "<function matplotlib.pyplot.show(close=None, block=None)>"
      ]
     },
     "execution_count": 40,
     "metadata": {},
     "output_type": "execute_result"
    },
    {
     "data": {
      "text/plain": [
       "<Figure size 640x480 with 1 Axes>"
      ],
      "image/png": "[encoded data removed]"
     },
     "metadata": {},
     "output_type": "display_data"
    }
   ],
   "execution_count": 40
  },
  {
   "metadata": {
    "ExecuteTime": {
     "end_time": "2025-03-26T00:09:45.603112Z",
     "start_time": "2025-03-26T00:09:45.132400Z"
    }
   },
   "cell_type": "code",
   "source": [
    "# Creates a DataFrame\n",
    "df = pd.DataFrame({'x': x, 'y': y})\n",
    "df['x2'] = df['x'] ** 2\n",
    "df['x3'] = df['x'] ** 3\n",
    "df['x4'] = df['x'] ** 4\n",
    "\n",
    "# Define the models: list of tuples\n",
    "new_models = [\n",
    "    ('linear', ['x']),\n",
    "    ('quadratic', ['x', 'x2']),\n",
    "    ('cubic', ['x', 'x2', 'x3']),\n",
    "    ('quartic', ['x', 'x2', 'x3', 'x4'])\n",
    "]\n",
    "\n",
    "# Initialize Leave-One-Out Cross Validator\n",
    "new_loo = LeaveOneOut()\n",
    "\n",
    "# Dictionary to hold LOOCV errors for each model\n",
    "new_loocv_errors = {}\n",
    "\n",
    "# Compute LOOCV error for each model using cross_val_score\n",
    "for name, features in new_models:\n",
    "    X = df[features].values\n",
    "    y_vals = df['y'].values\n",
    "\n",
    "    # cross_val_score uses negative MSE, so we negate the result to get positive MSE values\n",
    "    neg_mse_scores = cross_val_score(LinearRegression(), X, y_vals,\n",
    "                                     scoring = 'neg_mean_squared_error', cv = new_loo)\n",
    "    loocv_error = -np.mean(neg_mse_scores)\n",
    "    new_loocv_errors[name] = loocv_error\n",
    "    print(f\"LOOCV Error for {name} model: {loocv_error:.4f}\")"
   ],
   "id": "72425f4b28f4321d",
   "outputs": [
    {
     "name": "stdout",
     "output_type": "stream",
     "text": [
      "LOOCV Error for linear model: 7.5954\n",
      "LOOCV Error for quadratic model: 0.9862\n",
      "LOOCV Error for cubic model: 1.0675\n",
      "LOOCV Error for quartic model: 1.0244\n"
     ]
    }
   ],
   "execution_count": 42
  },
  {
   "metadata": {},
   "cell_type": "markdown",
   "source": [
    "Part D : Repeat C using another random seed and report your results\n",
    "\n",
    "Our results are not the same as we got before because when we set a new seed for our random number generator it generates different values for x and y which in turn gives us different equations and different test MSE values for our two models."
   ],
   "id": "b5d24bcb8008e2f4"
  },
  {
   "metadata": {},
   "cell_type": "markdown",
   "source": [
    "Part E : Which of the models in C had the smallest LOOCV error? Is this what you expected?\n",
    "\n",
    "Our error for our quadratic model had the lowest test MSE in part C, I was expecting this because of how y is created (there is a x^2 in creation) and if you look at the scatterplot you can see what looks like a quadratic relationship."
   ],
   "id": "e31ef46f0d37ed00"
  },
  {
   "metadata": {},
   "cell_type": "markdown",
   "source": [
    "Part F : Comment on the statistical significance of the coefficient estimates that results from fitting each of the models in C using ordinary least squares.  Do these results agree with the conclusions drawn based on cross-validation results?\n",
    "\n"
   ],
   "id": "b01b34e999efc4d3"
  },
  {
   "metadata": {
    "ExecuteTime": {
     "end_time": "2025-03-25T06:07:10.892277Z",
     "start_time": "2025-03-25T06:07:10.883111Z"
    }
   },
   "cell_type": "code",
   "outputs": [],
   "execution_count": 55,
   "source": [
    "# Reads in the Weekly dataset\n",
    "weekly = pd.read_csv('/Users/Camer/Downloads/Spring 2025 Classes/Stat 411/Stat 411 Book/All CSV Files/Weekly.csv')"
   ],
   "id": "81ed7e51d6bd4efa"
  },
  {
   "metadata": {
    "ExecuteTime": {
     "end_time": "2025-03-25T05:23:59.698330Z",
     "start_time": "2025-03-25T05:23:59.679022Z"
    }
   },
   "cell_type": "code",
   "source": "weekly.head()",
   "id": "a5eb535b32d2b662",
   "outputs": [
    {
     "data": {
      "text/plain": [
       "   Year   Lag1   Lag2   Lag3   Lag4   Lag5    Volume  Today Direction\n",
       "0  1990  0.816  1.572 -3.936 -0.229 -3.484  0.154976 -0.270      Down\n",
       "1  1990 -0.270  0.816  1.572 -3.936 -0.229  0.148574 -2.576      Down\n",
       "2  1990 -2.576 -0.270  0.816  1.572 -3.936  0.159837  3.514        Up\n",
       "3  1990  3.514 -2.576 -0.270  0.816  1.572  0.161630  0.712        Up\n",
       "4  1990  0.712  3.514 -2.576 -0.270  0.816  0.153728  1.178        Up"
      ],
      "text/html": [
       "<div>\n",
       "<style scoped>\n",
       "    .dataframe tbody tr th:only-of-type {\n",
       "        vertical-align: middle;\n",
       "    }\n",
       "\n",
       "    .dataframe tbody tr th {\n",
       "        vertical-align: top;\n",
       "    }\n",
       "\n",
       "    .dataframe thead th {\n",
       "        text-align: right;\n",
       "    }\n",
       "</style>\n",
       "<table border=\"1\" class=\"dataframe\">\n",
       "  <thead>\n",
       "    <tr style=\"text-align: right;\">\n",
       "      <th></th>\n",
       "      <th>Year</th>\n",
       "      <th>Lag1</th>\n",
       "      <th>Lag2</th>\n",
       "      <th>Lag3</th>\n",
       "      <th>Lag4</th>\n",
       "      <th>Lag5</th>\n",
       "      <th>Volume</th>\n",
       "      <th>Today</th>\n",
       "      <th>Direction</th>\n",
       "    </tr>\n",
       "  </thead>\n",
       "  <tbody>\n",
       "    <tr>\n",
       "      <th>0</th>\n",
       "      <td>1990</td>\n",
       "      <td>0.816</td>\n",
       "      <td>1.572</td>\n",
       "      <td>-3.936</td>\n",
       "      <td>-0.229</td>\n",
       "      <td>-3.484</td>\n",
       "      <td>0.154976</td>\n",
       "      <td>-0.270</td>\n",
       "      <td>Down</td>\n",
       "    </tr>\n",
       "    <tr>\n",
       "      <th>1</th>\n",
       "      <td>1990</td>\n",
       "      <td>-0.270</td>\n",
       "      <td>0.816</td>\n",
       "      <td>1.572</td>\n",
       "      <td>-3.936</td>\n",
       "      <td>-0.229</td>\n",
       "      <td>0.148574</td>\n",
       "      <td>-2.576</td>\n",
       "      <td>Down</td>\n",
       "    </tr>\n",
       "    <tr>\n",
       "      <th>2</th>\n",
       "      <td>1990</td>\n",
       "      <td>-2.576</td>\n",
       "      <td>-0.270</td>\n",
       "      <td>0.816</td>\n",
       "      <td>1.572</td>\n",
       "      <td>-3.936</td>\n",
       "      <td>0.159837</td>\n",
       "      <td>3.514</td>\n",
       "      <td>Up</td>\n",
       "    </tr>\n",
       "    <tr>\n",
       "      <th>3</th>\n",
       "      <td>1990</td>\n",
       "      <td>3.514</td>\n",
       "      <td>-2.576</td>\n",
       "      <td>-0.270</td>\n",
       "      <td>0.816</td>\n",
       "      <td>1.572</td>\n",
       "      <td>0.161630</td>\n",
       "      <td>0.712</td>\n",
       "      <td>Up</td>\n",
       "    </tr>\n",
       "    <tr>\n",
       "      <th>4</th>\n",
       "      <td>1990</td>\n",
       "      <td>0.712</td>\n",
       "      <td>3.514</td>\n",
       "      <td>-2.576</td>\n",
       "      <td>-0.270</td>\n",
       "      <td>0.816</td>\n",
       "      <td>0.153728</td>\n",
       "      <td>1.178</td>\n",
       "      <td>Up</td>\n",
       "    </tr>\n",
       "  </tbody>\n",
       "</table>\n",
       "</div>"
      ]
     },
     "execution_count": 36,
     "metadata": {},
     "output_type": "execute_result"
    }
   ],
   "execution_count": 36
  },
  {
   "metadata": {
    "ExecuteTime": {
     "end_time": "2025-03-25T05:24:34.980164Z",
     "start_time": "2025-03-25T05:24:34.943752Z"
    }
   },
   "cell_type": "code",
   "source": "weekly.describe()",
   "id": "be7d54b453143bc9",
   "outputs": [
    {
     "data": {
      "text/plain": [
       "              Year         Lag1         Lag2         Lag3         Lag4  \\\n",
       "count  1089.000000  1089.000000  1089.000000  1089.000000  1089.000000   \n",
       "mean   2000.048669     0.150585     0.151079     0.147205     0.145818   \n",
       "std       6.033182     2.357013     2.357254     2.360502     2.360279   \n",
       "min    1990.000000   -18.195000   -18.195000   -18.195000   -18.195000   \n",
       "25%    1995.000000    -1.154000    -1.154000    -1.158000    -1.158000   \n",
       "50%    2000.000000     0.241000     0.241000     0.241000     0.238000   \n",
       "75%    2005.000000     1.405000     1.409000     1.409000     1.409000   \n",
       "max    2010.000000    12.026000    12.026000    12.026000    12.026000   \n",
       "\n",
       "              Lag5       Volume        Today  \n",
       "count  1089.000000  1089.000000  1089.000000  \n",
       "mean      0.139893     1.574618     0.149899  \n",
       "std       2.361285     1.686636     2.356927  \n",
       "min     -18.195000     0.087465   -18.195000  \n",
       "25%      -1.166000     0.332022    -1.154000  \n",
       "50%       0.234000     1.002680     0.241000  \n",
       "75%       1.405000     2.053727     1.405000  \n",
       "max      12.026000     9.328214    12.026000  "
      ],
      "text/html": [
       "<div>\n",
       "<style scoped>\n",
       "    .dataframe tbody tr th:only-of-type {\n",
       "        vertical-align: middle;\n",
       "    }\n",
       "\n",
       "    .dataframe tbody tr th {\n",
       "        vertical-align: top;\n",
       "    }\n",
       "\n",
       "    .dataframe thead th {\n",
       "        text-align: right;\n",
       "    }\n",
       "</style>\n",
       "<table border=\"1\" class=\"dataframe\">\n",
       "  <thead>\n",
       "    <tr style=\"text-align: right;\">\n",
       "      <th></th>\n",
       "      <th>Year</th>\n",
       "      <th>Lag1</th>\n",
       "      <th>Lag2</th>\n",
       "      <th>Lag3</th>\n",
       "      <th>Lag4</th>\n",
       "      <th>Lag5</th>\n",
       "      <th>Volume</th>\n",
       "      <th>Today</th>\n",
       "    </tr>\n",
       "  </thead>\n",
       "  <tbody>\n",
       "    <tr>\n",
       "      <th>count</th>\n",
       "      <td>1089.000000</td>\n",
       "      <td>1089.000000</td>\n",
       "      <td>1089.000000</td>\n",
       "      <td>1089.000000</td>\n",
       "      <td>1089.000000</td>\n",
       "      <td>1089.000000</td>\n",
       "      <td>1089.000000</td>\n",
       "      <td>1089.000000</td>\n",
       "    </tr>\n",
       "    <tr>\n",
       "      <th>mean</th>\n",
       "      <td>2000.048669</td>\n",
       "      <td>0.150585</td>\n",
       "      <td>0.151079</td>\n",
       "      <td>0.147205</td>\n",
       "      <td>0.145818</td>\n",
       "      <td>0.139893</td>\n",
       "      <td>1.574618</td>\n",
       "      <td>0.149899</td>\n",
       "    </tr>\n",
       "    <tr>\n",
       "      <th>std</th>\n",
       "      <td>6.033182</td>\n",
       "      <td>2.357013</td>\n",
       "      <td>2.357254</td>\n",
       "      <td>2.360502</td>\n",
       "      <td>2.360279</td>\n",
       "      <td>2.361285</td>\n",
       "      <td>1.686636</td>\n",
       "      <td>2.356927</td>\n",
       "    </tr>\n",
       "    <tr>\n",
       "      <th>min</th>\n",
       "      <td>1990.000000</td>\n",
       "      <td>-18.195000</td>\n",
       "      <td>-18.195000</td>\n",
       "      <td>-18.195000</td>\n",
       "      <td>-18.195000</td>\n",
       "      <td>-18.195000</td>\n",
       "      <td>0.087465</td>\n",
       "      <td>-18.195000</td>\n",
       "    </tr>\n",
       "    <tr>\n",
       "      <th>25%</th>\n",
       "      <td>1995.000000</td>\n",
       "      <td>-1.154000</td>\n",
       "      <td>-1.154000</td>\n",
       "      <td>-1.158000</td>\n",
       "      <td>-1.158000</td>\n",
       "      <td>-1.166000</td>\n",
       "      <td>0.332022</td>\n",
       "      <td>-1.154000</td>\n",
       "    </tr>\n",
       "    <tr>\n",
       "      <th>50%</th>\n",
       "      <td>2000.000000</td>\n",
       "      <td>0.241000</td>\n",
       "      <td>0.241000</td>\n",
       "      <td>0.241000</td>\n",
       "      <td>0.238000</td>\n",
       "      <td>0.234000</td>\n",
       "      <td>1.002680</td>\n",
       "      <td>0.241000</td>\n",
       "    </tr>\n",
       "    <tr>\n",
       "      <th>75%</th>\n",
       "      <td>2005.000000</td>\n",
       "      <td>1.405000</td>\n",
       "      <td>1.409000</td>\n",
       "      <td>1.409000</td>\n",
       "      <td>1.409000</td>\n",
       "      <td>1.405000</td>\n",
       "      <td>2.053727</td>\n",
       "      <td>1.405000</td>\n",
       "    </tr>\n",
       "    <tr>\n",
       "      <th>max</th>\n",
       "      <td>2010.000000</td>\n",
       "      <td>12.026000</td>\n",
       "      <td>12.026000</td>\n",
       "      <td>12.026000</td>\n",
       "      <td>12.026000</td>\n",
       "      <td>12.026000</td>\n",
       "      <td>9.328214</td>\n",
       "      <td>12.026000</td>\n",
       "    </tr>\n",
       "  </tbody>\n",
       "</table>\n",
       "</div>"
      ]
     },
     "execution_count": 38,
     "metadata": {},
     "output_type": "execute_result"
    }
   ],
   "execution_count": 38
  },
  {
   "metadata": {
    "ExecuteTime": {
     "end_time": "2025-03-25T05:26:08.783692Z",
     "start_time": "2025-03-25T05:26:08.772054Z"
    }
   },
   "cell_type": "code",
   "source": "weekly.tail()",
   "id": "4d18a246c35d9414",
   "outputs": [
    {
     "data": {
      "text/plain": [
       "      Year   Lag1   Lag2   Lag3   Lag4   Lag5    Volume  Today Direction\n",
       "1084  2010 -0.861  0.043 -2.173  3.599  0.015  3.205160  2.969        Up\n",
       "1085  2010  2.969 -0.861  0.043 -2.173  3.599  4.242568  1.281        Up\n",
       "1086  2010  1.281  2.969 -0.861  0.043 -2.173  4.835082  0.283        Up\n",
       "1087  2010  0.283  1.281  2.969 -0.861  0.043  4.454044  1.034        Up\n",
       "1088  2010  1.034  0.283  1.281  2.969 -0.861  2.707105  0.069        Up"
      ],
      "text/html": [
       "<div>\n",
       "<style scoped>\n",
       "    .dataframe tbody tr th:only-of-type {\n",
       "        vertical-align: middle;\n",
       "    }\n",
       "\n",
       "    .dataframe tbody tr th {\n",
       "        vertical-align: top;\n",
       "    }\n",
       "\n",
       "    .dataframe thead th {\n",
       "        text-align: right;\n",
       "    }\n",
       "</style>\n",
       "<table border=\"1\" class=\"dataframe\">\n",
       "  <thead>\n",
       "    <tr style=\"text-align: right;\">\n",
       "      <th></th>\n",
       "      <th>Year</th>\n",
       "      <th>Lag1</th>\n",
       "      <th>Lag2</th>\n",
       "      <th>Lag3</th>\n",
       "      <th>Lag4</th>\n",
       "      <th>Lag5</th>\n",
       "      <th>Volume</th>\n",
       "      <th>Today</th>\n",
       "      <th>Direction</th>\n",
       "    </tr>\n",
       "  </thead>\n",
       "  <tbody>\n",
       "    <tr>\n",
       "      <th>1084</th>\n",
       "      <td>2010</td>\n",
       "      <td>-0.861</td>\n",
       "      <td>0.043</td>\n",
       "      <td>-2.173</td>\n",
       "      <td>3.599</td>\n",
       "      <td>0.015</td>\n",
       "      <td>3.205160</td>\n",
       "      <td>2.969</td>\n",
       "      <td>Up</td>\n",
       "    </tr>\n",
       "    <tr>\n",
       "      <th>1085</th>\n",
       "      <td>2010</td>\n",
       "      <td>2.969</td>\n",
       "      <td>-0.861</td>\n",
       "      <td>0.043</td>\n",
       "      <td>-2.173</td>\n",
       "      <td>3.599</td>\n",
       "      <td>4.242568</td>\n",
       "      <td>1.281</td>\n",
       "      <td>Up</td>\n",
       "    </tr>\n",
       "    <tr>\n",
       "      <th>1086</th>\n",
       "      <td>2010</td>\n",
       "      <td>1.281</td>\n",
       "      <td>2.969</td>\n",
       "      <td>-0.861</td>\n",
       "      <td>0.043</td>\n",
       "      <td>-2.173</td>\n",
       "      <td>4.835082</td>\n",
       "      <td>0.283</td>\n",
       "      <td>Up</td>\n",
       "    </tr>\n",
       "    <tr>\n",
       "      <th>1087</th>\n",
       "      <td>2010</td>\n",
       "      <td>0.283</td>\n",
       "      <td>1.281</td>\n",
       "      <td>2.969</td>\n",
       "      <td>-0.861</td>\n",
       "      <td>0.043</td>\n",
       "      <td>4.454044</td>\n",
       "      <td>1.034</td>\n",
       "      <td>Up</td>\n",
       "    </tr>\n",
       "    <tr>\n",
       "      <th>1088</th>\n",
       "      <td>2010</td>\n",
       "      <td>1.034</td>\n",
       "      <td>0.283</td>\n",
       "      <td>1.281</td>\n",
       "      <td>2.969</td>\n",
       "      <td>-0.861</td>\n",
       "      <td>2.707105</td>\n",
       "      <td>0.069</td>\n",
       "      <td>Up</td>\n",
       "    </tr>\n",
       "  </tbody>\n",
       "</table>\n",
       "</div>"
      ]
     },
     "execution_count": 40,
     "metadata": {},
     "output_type": "execute_result"
    }
   ],
   "execution_count": 40
  },
  {
   "metadata": {
    "ExecuteTime": {
     "end_time": "2025-03-25T05:27:16.507390Z",
     "start_time": "2025-03-25T05:27:16.489207Z"
    }
   },
   "cell_type": "code",
   "source": "weekly.info()",
   "id": "256c34692fb8bbd6",
   "outputs": [
    {
     "name": "stdout",
     "output_type": "stream",
     "text": [
      "<class 'pandas.core.frame.DataFrame'>\n",
      "RangeIndex: 1089 entries, 0 to 1088\n",
      "Data columns (total 9 columns):\n",
      " #   Column     Non-Null Count  Dtype  \n",
      "---  ------     --------------  -----  \n",
      " 0   Year       1089 non-null   int64  \n",
      " 1   Lag1       1089 non-null   float64\n",
      " 2   Lag2       1089 non-null   float64\n",
      " 3   Lag3       1089 non-null   float64\n",
      " 4   Lag4       1089 non-null   float64\n",
      " 5   Lag5       1089 non-null   float64\n",
      " 6   Volume     1089 non-null   float64\n",
      " 7   Today      1089 non-null   float64\n",
      " 8   Direction  1089 non-null   object \n",
      "dtypes: float64(7), int64(1), object(1)\n",
      "memory usage: 76.7+ KB\n"
     ]
    }
   ],
   "execution_count": 41
  },
  {
   "metadata": {
    "ExecuteTime": {
     "end_time": "2025-03-25T06:09:37.402746Z",
     "start_time": "2025-03-25T06:09:37.359838Z"
    }
   },
   "cell_type": "code",
   "source": [
    "# Creates a DataFrame with the predictors we will be using\n",
    "X = pd.DataFrame({'intercept': np.ones(weekly.shape[0]),\n",
    "                  'Volume': weekly['Volume'],\n",
    "                  'Lag1': weekly['Lag1'],\n",
    "                  'Lag2': weekly['Lag2'],\n",
    "                  'Year': weekly['Year']})\n",
    "\n",
    "# Creates our response variable and sets it to the variable 'Today' in the weekly dataset\n",
    "y = weekly['Today']\n",
    "\n",
    "# Creates a model using Ordinary Least Squares (OLS) Regression and fits it\n",
    "model = sm.OLS(y, X).fit()\n",
    "\n",
    "# Outputs important information about the model we just built.\n",
    "summarize(model)"
   ],
   "id": "3ed61c1d4d6f8f66",
   "outputs": [
    {
     "data": {
      "text/plain": [
       "              coef  std err      t  P>|t|\n",
       "intercept  13.5193   43.826  0.308  0.758\n",
       "Volume     -0.0266    0.079 -0.337  0.736\n",
       "Lag1       -0.0730    0.030 -2.398  0.017\n",
       "Lag2        0.0515    0.031  1.687  0.092\n",
       "Year       -0.0067    0.022 -0.303  0.762"
      ],
      "text/html": [
       "<div>\n",
       "<style scoped>\n",
       "    .dataframe tbody tr th:only-of-type {\n",
       "        vertical-align: middle;\n",
       "    }\n",
       "\n",
       "    .dataframe tbody tr th {\n",
       "        vertical-align: top;\n",
       "    }\n",
       "\n",
       "    .dataframe thead th {\n",
       "        text-align: right;\n",
       "    }\n",
       "</style>\n",
       "<table border=\"1\" class=\"dataframe\">\n",
       "  <thead>\n",
       "    <tr style=\"text-align: right;\">\n",
       "      <th></th>\n",
       "      <th>coef</th>\n",
       "      <th>std err</th>\n",
       "      <th>t</th>\n",
       "      <th>P&gt;|t|</th>\n",
       "    </tr>\n",
       "  </thead>\n",
       "  <tbody>\n",
       "    <tr>\n",
       "      <th>intercept</th>\n",
       "      <td>13.5193</td>\n",
       "      <td>43.826</td>\n",
       "      <td>0.308</td>\n",
       "      <td>0.758</td>\n",
       "    </tr>\n",
       "    <tr>\n",
       "      <th>Volume</th>\n",
       "      <td>-0.0266</td>\n",
       "      <td>0.079</td>\n",
       "      <td>-0.337</td>\n",
       "      <td>0.736</td>\n",
       "    </tr>\n",
       "    <tr>\n",
       "      <th>Lag1</th>\n",
       "      <td>-0.0730</td>\n",
       "      <td>0.030</td>\n",
       "      <td>-2.398</td>\n",
       "      <td>0.017</td>\n",
       "    </tr>\n",
       "    <tr>\n",
       "      <th>Lag2</th>\n",
       "      <td>0.0515</td>\n",
       "      <td>0.031</td>\n",
       "      <td>1.687</td>\n",
       "      <td>0.092</td>\n",
       "    </tr>\n",
       "    <tr>\n",
       "      <th>Year</th>\n",
       "      <td>-0.0067</td>\n",
       "      <td>0.022</td>\n",
       "      <td>-0.303</td>\n",
       "      <td>0.762</td>\n",
       "    </tr>\n",
       "  </tbody>\n",
       "</table>\n",
       "</div>"
      ]
     },
     "execution_count": 56,
     "metadata": {},
     "output_type": "execute_result"
    }
   ],
   "execution_count": 56
  },
  {
   "metadata": {},
   "cell_type": "markdown",
   "source": "The resulting fitted model is Y = 13.5193 - 0.0266(Volume) - 0.073(Lag1) - 0.0515(Lag2) - 0.0067(Year)",
   "id": "da33dbd69f624188"
  },
  {
   "metadata": {
    "ExecuteTime": {
     "end_time": "2025-03-25T06:10:08.937706Z",
     "start_time": "2025-03-25T06:10:08.930765Z"
    }
   },
   "cell_type": "code",
   "source": [
    "# Creates the function we use to estimate the test MSE\n",
    "def evalMSE(terms,\n",
    "           response,\n",
    "           train,\n",
    "           test):\n",
    "\n",
    "    mm = MS(terms)\n",
    "    X_train = mm.fit_transform(train)\n",
    "    y_train = train[response]\n",
    "\n",
    "    X_test = mm.transform(test)\n",
    "    y_test = test[response]\n",
    "\n",
    "    results = sm.OLS(y_train, X_train).fit()\n",
    "    test_pred = results.predict(X_test)\n",
    "\n",
    "    return np.mean((y_test - test_pred)**2)"
   ],
   "id": "5177dc6e73ca3a5f",
   "outputs": [],
   "execution_count": 57
  },
  {
   "metadata": {
    "ExecuteTime": {
     "end_time": "2025-03-25T06:11:00.719163Z",
     "start_time": "2025-03-25T06:11:00.689400Z"
    }
   },
   "cell_type": "code",
   "source": [
    "# Splits our data into two groups with an 80/20 split, with more variables in the training dataset.\n",
    "weekly_train, weekly_test = train_test_split(weekly,\n",
    "                                             test_size = 218,\n",
    "                                             random_state = 174201)\n",
    "\n",
    "# Estimates the test MSE\n",
    "test_MSE = evalMSE(['Volume', 'Lag1', 'Lag2', 'Year'],\n",
    "                   'Today',\n",
    "                   weekly_train,\n",
    "                   weekly_test)\n",
    "\n",
    "test_MSE"
   ],
   "id": "822b840ade474b",
   "outputs": [
    {
     "data": {
      "text/plain": [
       "np.float64(7.263093680423689)"
      ]
     },
     "execution_count": 58,
     "metadata": {},
     "output_type": "execute_result"
    }
   ],
   "execution_count": 58
  },
  {
   "metadata": {},
   "cell_type": "markdown",
   "source": "Our estimate of the test MSE with a validation set made from an 80/20 split is 7.26.",
   "id": "6f0146de5d8af009"
  },
  {
   "metadata": {
    "ExecuteTime": {
     "end_time": "2025-03-25T05:58:34.945560Z",
     "start_time": "2025-03-25T05:58:34.900623Z"
    }
   },
   "cell_type": "code",
   "source": [
    "# Initialize the model\n",
    "model = LinearRegression()\n",
    "\n",
    "# Perform 5-fold cross-validation using negative MSE as the scoring metric\n",
    "scores = cross_val_score(model, X, y, cv = 5, scoring = 'neg_mean_squared_error')\n",
    "\n",
    "# Convert negative MSE to positive values\n",
    "mse_scores = -scores\n",
    "\n",
    "print(\"MSE scores for each fold:\", mse_scores)\n",
    "print(\"Average MSE:\", np.mean(mse_scores))\n"
   ],
   "id": "7e50fd48044377c0",
   "outputs": [
    {
     "name": "stdout",
     "output_type": "stream",
     "text": [
      "MSE scores for each fold: [ 2.68430444  2.82511767  8.63587461  3.07355425 10.84609048]\n",
      "Average MSE: 5.61298828961594\n"
     ]
    }
   ],
   "execution_count": 53
  },
  {
   "metadata": {},
   "cell_type": "markdown",
   "source": "Our average MSE was lower than before when we estimate the test MSE using K Fold cross validation where k = 5.",
   "id": "e3cae94d9238a68b"
  },
  {
   "metadata": {
    "ExecuteTime": {
     "end_time": "2025-03-25T06:06:32.245449Z",
     "start_time": "2025-03-25T06:06:21.298128Z"
    }
   },
   "cell_type": "code",
   "source": [
    "SqErrs = np.zeros(1089)\n",
    "\n",
    "# The predictor variables we will use\n",
    "design = MS(['Lag1', 'Lag2', 'Volume', 'Year'])\n",
    "\n",
    "# Creates a for loop so we iterate through every value in the dataset and perform LOOCV.\n",
    "for i in range(1089):\n",
    "\n",
    "    # Creates the predictor training dataset from every other observation but i.\n",
    "    X_train = design.fit_transform(weekly.drop([i]))\n",
    "\n",
    "    # Creates the response training dataset from every other observation but i.\n",
    "    y_train = weekly['Today'].drop([i])\n",
    "\n",
    "    # Creates our model using Ordinary Least Squares (OLS) Regression\n",
    "    model = sm.OLS(y_train, X_train)\n",
    "\n",
    "    # Fits our results\n",
    "    results = model.fit()\n",
    "\n",
    "    # Creates our predictor test training set with only the observation i in it.\n",
    "    X_test = design.transform(weekly.iloc[[i]])\n",
    "\n",
    "    # Creates our response test training set with only the observation i in it.\n",
    "    y_test = weekly['Today'].iloc[i]\n",
    "\n",
    "    # Gets our prediction\n",
    "    test_pred = results.predict(X_test)\n",
    "\n",
    "    # Calculates the squared difference between the actual result and our estimate\n",
    "    a = (y_test - test_pred)**2\n",
    "\n",
    "    # Sets the ith value for SqErrs to a for the ith iteration\n",
    "    SqErrs[i] = float(a.iloc[0])\n",
    "\n",
    "# Calculates the mean Squared Error over all of our estimates\n",
    "np.mean(SqErrs)"
   ],
   "id": "4d5a430daddf66de",
   "outputs": [
    {
     "data": {
      "text/plain": [
       "np.float64(5.6042237514063915)"
      ]
     },
     "execution_count": 54,
     "metadata": {},
     "output_type": "execute_result"
    }
   ],
   "execution_count": 54
  },
  {
   "metadata": {
    "ExecuteTime": {
     "end_time": "2025-03-26T00:14:54.008859Z",
     "start_time": "2025-03-26T00:14:53.829414Z"
    }
   },
   "cell_type": "code",
   "source": [
    "# Set the random seed for reproducibility\n",
    "rng = np.random.default_rng(174201)\n",
    "\n",
    "# Create a simulated training dataset\n",
    "n = 100\n",
    "x1 = rng.uniform(-3, 3, n)\n",
    "x2 = rng.uniform(-3, 3, n)\n",
    "\n",
    "# Create a binary response\n",
    "y = (x1 ** 2 + x2 ** 2 > 4.5).astype(int)\n",
    "\n",
    "# Combine into DataFrame for convenience\n",
    "data = pd.DataFrame({'x1': x1, 'x2': x2, 'y': y})\n",
    "\n",
    "# Plot the training data\n",
    "plt.figure(figsize=(8, 6))\n",
    "plt.scatter(data['x1'], data['x2'], c = data['y'], cmap = 'coolwarm', edgecolor = 'k', s = 50)\n",
    "plt.xlabel('x1')\n",
    "plt.ylabel('x2')\n",
    "plt.title('Training Data')\n",
    "plt.grid(True)\n",
    "plt.show()"
   ],
   "id": "7dc81831506a189",
   "outputs": [
    {
     "data": {
      "text/plain": [
       "<Figure size 800x600 with 1 Axes>"
      ],
      "image/png": "[encoded data removed]"
     },
     "metadata": {},
     "output_type": "display_data"
    }
   ],
   "execution_count": 43
  },
  {
   "metadata": {},
   "cell_type": "markdown",
   "source": "This is all I was able to get done for the second additional problem because I don't know if I was looking in the wrong place, but I couldn't find the data we generated at the end of the lab in chapter 2.  I tried to create my own dataset but realized none of my numbers would be correct.",
   "id": "cb6d7b7cf4a5bbb8"
  }
 ],
 "metadata": {
  "kernelspec": {
   "display_name": "Python 3",
   "language": "python",
   "name": "python3"
  },
  "language_info": {
   "codemirror_mode": {
    "name": "ipython",
    "version": 2
   },
   "file_extension": ".py",
   "mimetype": "text/x-python",
   "name": "python",
   "nbconvert_exporter": "python",
   "pygments_lexer": "ipython2",
   "version": "2.7.6"
  }
 },
 "nbformat": 4,
 "nbformat_minor": 5
}
